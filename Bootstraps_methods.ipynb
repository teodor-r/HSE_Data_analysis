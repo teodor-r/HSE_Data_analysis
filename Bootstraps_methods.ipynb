{
 "cells": [
  {
   "cell_type": "markdown",
   "id": "3b2c6ee2",
   "metadata": {},
   "source": [
    "# Про градиентный спуск\n",
    "\n",
    "Сравнить сложность точного решения задачи линейной регрессии для случая квадратичной ошибки и сложность решения этой же задачи методом градиентного спуска (при условии, что градиентный спуск сходится с K шагов, в задаче есть M признаков и длина обучающей выборки равна N. N>K и N>M)"
   ]
  },
  {
   "cell_type": "raw",
   "id": "361a23b6-1ed9-4d60-a6bc-fc51010500e6",
   "metadata": {},
   "source": [
    "Это перезалитый  вариант, я в телеграме писал"
   ]
  },
  {
   "cell_type": "markdown",
   "id": "c002d8fc-fd65-4308-a3f6-1d2794027c69",
   "metadata": {},
   "source": [
    "Градиентный спуск $$O(NDS)$$, где N - длина выборки, D- количество признаков у объекта, S - количество итераций. \n",
    "$$O(ND^2 + D^3)$$ - аналитическое решение\n",
    " ) "
   ]
  },
  {
   "cell_type": "markdown",
   "id": "37ea54d7",
   "metadata": {},
   "source": [
    "# Про FWL-Теорему\n",
    "\n",
    "Кажется, я успешно успел вам наврать на лекции про \"отпиливание\" зависимости из Y-переменной (я вроде это забыл сказать), поэтому реабилитироваться буду примером:"
   ]
  },
  {
   "cell_type": "code",
   "id": "2e4277fe",
   "metadata": {
    "ExecuteTime": {
     "end_time": "2024-11-04T16:28:50.843048Z",
     "start_time": "2024-11-04T16:28:49.128602Z"
    }
   },
   "source": [
    "import numpy as np\n",
    "import pandas as pd\n",
    "import statsmodels.api as sm\n",
    "import scipy.special as sc\n",
    "import matplotlib.cm as cm\n",
    "import matplotlib.pyplot as plt\n",
    "import mpmath\n",
    "from scipy.stats.sampling import DiscreteGuideTable\n",
    "from scipy.integrate import quad\n",
    "import scipy.stats as stats\n",
    "np.random.seed(42069)\n",
    " \n",
    "# Пусть у нас есть набор данных, где есть линейная зависимость y от X1 и X2\n",
    "# При этом X1 и X2 тоже малясь зависимые\n",
    "df = pd.DataFrame({'x1': np.random.uniform(0, 10, size=1000)})\n",
    "df['x2'] = 4.9 + df['x1'] * 0.983 + 2.104 * np.random.normal(0, 1.35, size=1000)\n",
    "df['y'] = 8.643 - 2.34 * df['x1'] + 3.35 * df['x2'] + np.random.normal(0, 1.65, size=1000)\n",
    "df['const'] = 1\n",
    " \n",
    "# Построим линейную регрессию-МНК из 1, X1 и X2\n",
    "model = sm.OLS(\n",
    "    endog=df['y'],\n",
    "    exog=df[['const', 'x1', 'x2']]\n",
    ").fit()\n",
    "\n",
    "# Внимательно смотрим на коэффициент при X2\n",
    "model.summary()"
   ],
   "outputs": [
    {
     "data": {
      "text/plain": [
       "<class 'statsmodels.iolib.summary.Summary'>\n",
       "\"\"\"\n",
       "                            OLS Regression Results                            \n",
       "==============================================================================\n",
       "Dep. Variable:                      y   R-squared:                       0.972\n",
       "Model:                            OLS   Adj. R-squared:                  0.972\n",
       "Method:                 Least Squares   F-statistic:                 1.754e+04\n",
       "Date:                Mon, 04 Nov 2024   Prob (F-statistic):               0.00\n",
       "Time:                        19:28:50   Log-Likelihood:                -1934.3\n",
       "No. Observations:                1000   AIC:                             3875.\n",
       "Df Residuals:                     997   BIC:                             3889.\n",
       "Df Model:                           2                                         \n",
       "Covariance Type:            nonrobust                                         \n",
       "==============================================================================\n",
       "                 coef    std err          t      P>|t|      [0.025      0.975]\n",
       "------------------------------------------------------------------------------\n",
       "const          8.6842      0.139     62.606      0.000       8.412       8.956\n",
       "x1            -2.3455      0.027    -88.274      0.000      -2.398      -2.293\n",
       "x2             3.3544      0.019    178.202      0.000       3.317       3.391\n",
       "==============================================================================\n",
       "Omnibus:                        0.497   Durbin-Watson:                   2.031\n",
       "Prob(Omnibus):                  0.780   Jarque-Bera (JB):                0.394\n",
       "Skew:                          -0.036   Prob(JB):                        0.821\n",
       "Kurtosis:                       3.066   Cond. No.                         31.5\n",
       "==============================================================================\n",
       "\n",
       "Notes:\n",
       "[1] Standard Errors assume that the covariance matrix of the errors is correctly specified.\n",
       "\"\"\""
      ],
      "text/html": [
       "<table class=\"simpletable\">\n",
       "<caption>OLS Regression Results</caption>\n",
       "<tr>\n",
       "  <th>Dep. Variable:</th>            <td>y</td>        <th>  R-squared:         </th> <td>   0.972</td> \n",
       "</tr>\n",
       "<tr>\n",
       "  <th>Model:</th>                   <td>OLS</td>       <th>  Adj. R-squared:    </th> <td>   0.972</td> \n",
       "</tr>\n",
       "<tr>\n",
       "  <th>Method:</th>             <td>Least Squares</td>  <th>  F-statistic:       </th> <td>1.754e+04</td>\n",
       "</tr>\n",
       "<tr>\n",
       "  <th>Date:</th>             <td>Mon, 04 Nov 2024</td> <th>  Prob (F-statistic):</th>  <td>  0.00</td>  \n",
       "</tr>\n",
       "<tr>\n",
       "  <th>Time:</th>                 <td>19:28:50</td>     <th>  Log-Likelihood:    </th> <td> -1934.3</td> \n",
       "</tr>\n",
       "<tr>\n",
       "  <th>No. Observations:</th>      <td>  1000</td>      <th>  AIC:               </th> <td>   3875.</td> \n",
       "</tr>\n",
       "<tr>\n",
       "  <th>Df Residuals:</th>          <td>   997</td>      <th>  BIC:               </th> <td>   3889.</td> \n",
       "</tr>\n",
       "<tr>\n",
       "  <th>Df Model:</th>              <td>     2</td>      <th>                     </th>     <td> </td>    \n",
       "</tr>\n",
       "<tr>\n",
       "  <th>Covariance Type:</th>      <td>nonrobust</td>    <th>                     </th>     <td> </td>    \n",
       "</tr>\n",
       "</table>\n",
       "<table class=\"simpletable\">\n",
       "<tr>\n",
       "    <td></td>       <th>coef</th>     <th>std err</th>      <th>t</th>      <th>P>|t|</th>  <th>[0.025</th>    <th>0.975]</th>  \n",
       "</tr>\n",
       "<tr>\n",
       "  <th>const</th> <td>    8.6842</td> <td>    0.139</td> <td>   62.606</td> <td> 0.000</td> <td>    8.412</td> <td>    8.956</td>\n",
       "</tr>\n",
       "<tr>\n",
       "  <th>x1</th>    <td>   -2.3455</td> <td>    0.027</td> <td>  -88.274</td> <td> 0.000</td> <td>   -2.398</td> <td>   -2.293</td>\n",
       "</tr>\n",
       "<tr>\n",
       "  <th>x2</th>    <td>    3.3544</td> <td>    0.019</td> <td>  178.202</td> <td> 0.000</td> <td>    3.317</td> <td>    3.391</td>\n",
       "</tr>\n",
       "</table>\n",
       "<table class=\"simpletable\">\n",
       "<tr>\n",
       "  <th>Omnibus:</th>       <td> 0.497</td> <th>  Durbin-Watson:     </th> <td>   2.031</td>\n",
       "</tr>\n",
       "<tr>\n",
       "  <th>Prob(Omnibus):</th> <td> 0.780</td> <th>  Jarque-Bera (JB):  </th> <td>   0.394</td>\n",
       "</tr>\n",
       "<tr>\n",
       "  <th>Skew:</th>          <td>-0.036</td> <th>  Prob(JB):          </th> <td>   0.821</td>\n",
       "</tr>\n",
       "<tr>\n",
       "  <th>Kurtosis:</th>      <td> 3.066</td> <th>  Cond. No.          </th> <td>    31.5</td>\n",
       "</tr>\n",
       "</table><br/><br/>Notes:<br/>[1] Standard Errors assume that the covariance matrix of the errors is correctly specified."
      ],
      "text/latex": "\\begin{center}\n\\begin{tabular}{lclc}\n\\toprule\n\\textbf{Dep. Variable:}    &        y         & \\textbf{  R-squared:         } &     0.972   \\\\\n\\textbf{Model:}            &       OLS        & \\textbf{  Adj. R-squared:    } &     0.972   \\\\\n\\textbf{Method:}           &  Least Squares   & \\textbf{  F-statistic:       } & 1.754e+04   \\\\\n\\textbf{Date:}             & Mon, 04 Nov 2024 & \\textbf{  Prob (F-statistic):} &     0.00    \\\\\n\\textbf{Time:}             &     19:28:50     & \\textbf{  Log-Likelihood:    } &   -1934.3   \\\\\n\\textbf{No. Observations:} &        1000      & \\textbf{  AIC:               } &     3875.   \\\\\n\\textbf{Df Residuals:}     &         997      & \\textbf{  BIC:               } &     3889.   \\\\\n\\textbf{Df Model:}         &           2      & \\textbf{                     } &             \\\\\n\\textbf{Covariance Type:}  &    nonrobust     & \\textbf{                     } &             \\\\\n\\bottomrule\n\\end{tabular}\n\\begin{tabular}{lcccccc}\n               & \\textbf{coef} & \\textbf{std err} & \\textbf{t} & \\textbf{P$> |$t$|$} & \\textbf{[0.025} & \\textbf{0.975]}  \\\\\n\\midrule\n\\textbf{const} &       8.6842  &        0.139     &    62.606  &         0.000        &        8.412    &        8.956     \\\\\n\\textbf{x1}    &      -2.3455  &        0.027     &   -88.274  &         0.000        &       -2.398    &       -2.293     \\\\\n\\textbf{x2}    &       3.3544  &        0.019     &   178.202  &         0.000        &        3.317    &        3.391     \\\\\n\\bottomrule\n\\end{tabular}\n\\begin{tabular}{lclc}\n\\textbf{Omnibus:}       &  0.497 & \\textbf{  Durbin-Watson:     } &    2.031  \\\\\n\\textbf{Prob(Omnibus):} &  0.780 & \\textbf{  Jarque-Bera (JB):  } &    0.394  \\\\\n\\textbf{Skew:}          & -0.036 & \\textbf{  Prob(JB):          } &    0.821  \\\\\n\\textbf{Kurtosis:}      &  3.066 & \\textbf{  Cond. No.          } &     31.5  \\\\\n\\bottomrule\n\\end{tabular}\n%\\caption{OLS Regression Results}\n\\end{center}\n\nNotes: \\newline\n [1] Standard Errors assume that the covariance matrix of the errors is correctly specified."
     },
     "execution_count": 1,
     "metadata": {},
     "output_type": "execute_result"
    }
   ],
   "execution_count": 1
  },
  {
   "cell_type": "code",
   "id": "77f5ea43",
   "metadata": {
    "ExecuteTime": {
     "end_time": "2024-11-04T16:28:50.900482Z",
     "start_time": "2024-11-04T16:28:50.881056Z"
    }
   },
   "source": [
    "# Научим регрессию X1 на X2\n",
    "model_x2 = sm.OLS(\n",
    "    endog=df['x2'],\n",
    "    exog=df[['const', 'x1']]\n",
    ").fit()\n",
    "\n",
    "# Научим регрессию X1 на y\n",
    "model_yx1 = sm.OLS(\n",
    "    endog=df['y'],\n",
    "    exog=df[['const', 'x1']]\n",
    ").fit()"
   ],
   "outputs": [],
   "execution_count": 2
  },
  {
   "cell_type": "code",
   "id": "f5160e16",
   "metadata": {
    "ExecuteTime": {
     "end_time": "2024-11-04T16:28:51.275800Z",
     "start_time": "2024-11-04T16:28:51.229474Z"
    }
   },
   "source": [
    "# Полученными регрессиями \"предскажем X2 и Y\"\n",
    "\n",
    "df['yx1'] = model_yx1.predict(df[['const', 'x1']])\n",
    "df['x2x1'] = model_x2.predict(df[['const', 'x1']])\n",
    "df"
   ],
   "outputs": [
    {
     "data": {
      "text/plain": [
       "           x1         x2          y  const        yx1       x2x1\n",
       "0    0.305084   8.595233  37.454667      1  24.867577   5.037822\n",
       "1    4.194086   8.942919  25.227052      1  29.006692   8.991080\n",
       "2    8.776921  13.448463  32.000686      1  33.884262  13.649634\n",
       "3    7.135028   7.653533  16.395354      1  32.136774  11.980613\n",
       "4    3.239823   9.261669  30.338040      1  27.991058   8.021050\n",
       "..        ...        ...        ...    ...        ...        ...\n",
       "995  1.577805   8.699299  32.652689      1  26.222151   6.331572\n",
       "996  8.186401  16.484709  43.966089      1  33.255764  13.049357\n",
       "997  9.246921  11.438592  23.738685      1  34.384488  14.127398\n",
       "998  4.609640   6.826222  20.713982      1  29.448971   9.413499\n",
       "999  6.774393   8.630390  19.176945      1  31.752946  11.614019\n",
       "\n",
       "[1000 rows x 6 columns]"
      ],
      "text/html": [
       "<div>\n",
       "<style scoped>\n",
       "    .dataframe tbody tr th:only-of-type {\n",
       "        vertical-align: middle;\n",
       "    }\n",
       "\n",
       "    .dataframe tbody tr th {\n",
       "        vertical-align: top;\n",
       "    }\n",
       "\n",
       "    .dataframe thead th {\n",
       "        text-align: right;\n",
       "    }\n",
       "</style>\n",
       "<table border=\"1\" class=\"dataframe\">\n",
       "  <thead>\n",
       "    <tr style=\"text-align: right;\">\n",
       "      <th></th>\n",
       "      <th>x1</th>\n",
       "      <th>x2</th>\n",
       "      <th>y</th>\n",
       "      <th>const</th>\n",
       "      <th>yx1</th>\n",
       "      <th>x2x1</th>\n",
       "    </tr>\n",
       "  </thead>\n",
       "  <tbody>\n",
       "    <tr>\n",
       "      <th>0</th>\n",
       "      <td>0.305084</td>\n",
       "      <td>8.595233</td>\n",
       "      <td>37.454667</td>\n",
       "      <td>1</td>\n",
       "      <td>24.867577</td>\n",
       "      <td>5.037822</td>\n",
       "    </tr>\n",
       "    <tr>\n",
       "      <th>1</th>\n",
       "      <td>4.194086</td>\n",
       "      <td>8.942919</td>\n",
       "      <td>25.227052</td>\n",
       "      <td>1</td>\n",
       "      <td>29.006692</td>\n",
       "      <td>8.991080</td>\n",
       "    </tr>\n",
       "    <tr>\n",
       "      <th>2</th>\n",
       "      <td>8.776921</td>\n",
       "      <td>13.448463</td>\n",
       "      <td>32.000686</td>\n",
       "      <td>1</td>\n",
       "      <td>33.884262</td>\n",
       "      <td>13.649634</td>\n",
       "    </tr>\n",
       "    <tr>\n",
       "      <th>3</th>\n",
       "      <td>7.135028</td>\n",
       "      <td>7.653533</td>\n",
       "      <td>16.395354</td>\n",
       "      <td>1</td>\n",
       "      <td>32.136774</td>\n",
       "      <td>11.980613</td>\n",
       "    </tr>\n",
       "    <tr>\n",
       "      <th>4</th>\n",
       "      <td>3.239823</td>\n",
       "      <td>9.261669</td>\n",
       "      <td>30.338040</td>\n",
       "      <td>1</td>\n",
       "      <td>27.991058</td>\n",
       "      <td>8.021050</td>\n",
       "    </tr>\n",
       "    <tr>\n",
       "      <th>...</th>\n",
       "      <td>...</td>\n",
       "      <td>...</td>\n",
       "      <td>...</td>\n",
       "      <td>...</td>\n",
       "      <td>...</td>\n",
       "      <td>...</td>\n",
       "    </tr>\n",
       "    <tr>\n",
       "      <th>995</th>\n",
       "      <td>1.577805</td>\n",
       "      <td>8.699299</td>\n",
       "      <td>32.652689</td>\n",
       "      <td>1</td>\n",
       "      <td>26.222151</td>\n",
       "      <td>6.331572</td>\n",
       "    </tr>\n",
       "    <tr>\n",
       "      <th>996</th>\n",
       "      <td>8.186401</td>\n",
       "      <td>16.484709</td>\n",
       "      <td>43.966089</td>\n",
       "      <td>1</td>\n",
       "      <td>33.255764</td>\n",
       "      <td>13.049357</td>\n",
       "    </tr>\n",
       "    <tr>\n",
       "      <th>997</th>\n",
       "      <td>9.246921</td>\n",
       "      <td>11.438592</td>\n",
       "      <td>23.738685</td>\n",
       "      <td>1</td>\n",
       "      <td>34.384488</td>\n",
       "      <td>14.127398</td>\n",
       "    </tr>\n",
       "    <tr>\n",
       "      <th>998</th>\n",
       "      <td>4.609640</td>\n",
       "      <td>6.826222</td>\n",
       "      <td>20.713982</td>\n",
       "      <td>1</td>\n",
       "      <td>29.448971</td>\n",
       "      <td>9.413499</td>\n",
       "    </tr>\n",
       "    <tr>\n",
       "      <th>999</th>\n",
       "      <td>6.774393</td>\n",
       "      <td>8.630390</td>\n",
       "      <td>19.176945</td>\n",
       "      <td>1</td>\n",
       "      <td>31.752946</td>\n",
       "      <td>11.614019</td>\n",
       "    </tr>\n",
       "  </tbody>\n",
       "</table>\n",
       "<p>1000 rows × 6 columns</p>\n",
       "</div>"
      ]
     },
     "execution_count": 3,
     "metadata": {},
     "output_type": "execute_result"
    }
   ],
   "execution_count": 3
  },
  {
   "cell_type": "code",
   "id": "917bf37b",
   "metadata": {
    "ExecuteTime": {
     "end_time": "2024-11-04T16:28:51.332006Z",
     "start_time": "2024-11-04T16:28:51.319939Z"
    }
   },
   "source": [
    "# А затем \"отпилим\" предсказание из данных\n",
    "df['y_detrended'] = df['y'] - df['yx1']\n",
    "df['x2_detrended'] = df['x2'] - df['x2x1']"
   ],
   "outputs": [],
   "execution_count": 4
  },
  {
   "cell_type": "code",
   "id": "84f2d8c3",
   "metadata": {
    "ExecuteTime": {
     "end_time": "2024-11-04T16:28:51.451841Z",
     "start_time": "2024-11-04T16:28:51.415326Z"
    }
   },
   "source": [
    "# Учим модель на \"очищенных\" переменных и, о Боже, коэффициент при X2 остается \"как был\"\n",
    "model_detrended = sm.OLS(\n",
    "    endog=df['y_detrended'],\n",
    "    exog=df[['const', 'x2_detrended']]\n",
    ").fit()\n",
    "model_detrended.summary()"
   ],
   "outputs": [
    {
     "data": {
      "text/plain": [
       "<class 'statsmodels.iolib.summary.Summary'>\n",
       "\"\"\"\n",
       "                            OLS Regression Results                            \n",
       "==============================================================================\n",
       "Dep. Variable:            y_detrended   R-squared:                       0.970\n",
       "Model:                            OLS   Adj. R-squared:                  0.970\n",
       "Method:                 Least Squares   F-statistic:                 3.179e+04\n",
       "Date:                Mon, 04 Nov 2024   Prob (F-statistic):               0.00\n",
       "Time:                        19:28:51   Log-Likelihood:                -1934.3\n",
       "No. Observations:                1000   AIC:                             3873.\n",
       "Df Residuals:                     998   BIC:                             3882.\n",
       "Df Model:                           1                                         \n",
       "Covariance Type:            nonrobust                                         \n",
       "================================================================================\n",
       "                   coef    std err          t      P>|t|      [0.025      0.975]\n",
       "--------------------------------------------------------------------------------\n",
       "const        -1.155e-14      0.053  -2.18e-13      1.000      -0.104       0.104\n",
       "x2_detrended     3.3544      0.019    178.292      0.000       3.318       3.391\n",
       "==============================================================================\n",
       "Omnibus:                        0.497   Durbin-Watson:                   2.031\n",
       "Prob(Omnibus):                  0.780   Jarque-Bera (JB):                0.394\n",
       "Skew:                          -0.036   Prob(JB):                        0.821\n",
       "Kurtosis:                       3.066   Cond. No.                         2.82\n",
       "==============================================================================\n",
       "\n",
       "Notes:\n",
       "[1] Standard Errors assume that the covariance matrix of the errors is correctly specified.\n",
       "\"\"\""
      ],
      "text/html": [
       "<table class=\"simpletable\">\n",
       "<caption>OLS Regression Results</caption>\n",
       "<tr>\n",
       "  <th>Dep. Variable:</th>       <td>y_detrended</td>   <th>  R-squared:         </th> <td>   0.970</td> \n",
       "</tr>\n",
       "<tr>\n",
       "  <th>Model:</th>                   <td>OLS</td>       <th>  Adj. R-squared:    </th> <td>   0.970</td> \n",
       "</tr>\n",
       "<tr>\n",
       "  <th>Method:</th>             <td>Least Squares</td>  <th>  F-statistic:       </th> <td>3.179e+04</td>\n",
       "</tr>\n",
       "<tr>\n",
       "  <th>Date:</th>             <td>Mon, 04 Nov 2024</td> <th>  Prob (F-statistic):</th>  <td>  0.00</td>  \n",
       "</tr>\n",
       "<tr>\n",
       "  <th>Time:</th>                 <td>19:28:51</td>     <th>  Log-Likelihood:    </th> <td> -1934.3</td> \n",
       "</tr>\n",
       "<tr>\n",
       "  <th>No. Observations:</th>      <td>  1000</td>      <th>  AIC:               </th> <td>   3873.</td> \n",
       "</tr>\n",
       "<tr>\n",
       "  <th>Df Residuals:</th>          <td>   998</td>      <th>  BIC:               </th> <td>   3882.</td> \n",
       "</tr>\n",
       "<tr>\n",
       "  <th>Df Model:</th>              <td>     1</td>      <th>                     </th>     <td> </td>    \n",
       "</tr>\n",
       "<tr>\n",
       "  <th>Covariance Type:</th>      <td>nonrobust</td>    <th>                     </th>     <td> </td>    \n",
       "</tr>\n",
       "</table>\n",
       "<table class=\"simpletable\">\n",
       "<tr>\n",
       "        <td></td>          <th>coef</th>     <th>std err</th>      <th>t</th>      <th>P>|t|</th>  <th>[0.025</th>    <th>0.975]</th>  \n",
       "</tr>\n",
       "<tr>\n",
       "  <th>const</th>        <td>-1.155e-14</td> <td>    0.053</td> <td>-2.18e-13</td> <td> 1.000</td> <td>   -0.104</td> <td>    0.104</td>\n",
       "</tr>\n",
       "<tr>\n",
       "  <th>x2_detrended</th> <td>    3.3544</td> <td>    0.019</td> <td>  178.292</td> <td> 0.000</td> <td>    3.318</td> <td>    3.391</td>\n",
       "</tr>\n",
       "</table>\n",
       "<table class=\"simpletable\">\n",
       "<tr>\n",
       "  <th>Omnibus:</th>       <td> 0.497</td> <th>  Durbin-Watson:     </th> <td>   2.031</td>\n",
       "</tr>\n",
       "<tr>\n",
       "  <th>Prob(Omnibus):</th> <td> 0.780</td> <th>  Jarque-Bera (JB):  </th> <td>   0.394</td>\n",
       "</tr>\n",
       "<tr>\n",
       "  <th>Skew:</th>          <td>-0.036</td> <th>  Prob(JB):          </th> <td>   0.821</td>\n",
       "</tr>\n",
       "<tr>\n",
       "  <th>Kurtosis:</th>      <td> 3.066</td> <th>  Cond. No.          </th> <td>    2.82</td>\n",
       "</tr>\n",
       "</table><br/><br/>Notes:<br/>[1] Standard Errors assume that the covariance matrix of the errors is correctly specified."
      ],
      "text/latex": "\\begin{center}\n\\begin{tabular}{lclc}\n\\toprule\n\\textbf{Dep. Variable:}    &   y\\_detrended   & \\textbf{  R-squared:         } &     0.970   \\\\\n\\textbf{Model:}            &       OLS        & \\textbf{  Adj. R-squared:    } &     0.970   \\\\\n\\textbf{Method:}           &  Least Squares   & \\textbf{  F-statistic:       } & 3.179e+04   \\\\\n\\textbf{Date:}             & Mon, 04 Nov 2024 & \\textbf{  Prob (F-statistic):} &     0.00    \\\\\n\\textbf{Time:}             &     19:28:51     & \\textbf{  Log-Likelihood:    } &   -1934.3   \\\\\n\\textbf{No. Observations:} &        1000      & \\textbf{  AIC:               } &     3873.   \\\\\n\\textbf{Df Residuals:}     &         998      & \\textbf{  BIC:               } &     3882.   \\\\\n\\textbf{Df Model:}         &           1      & \\textbf{                     } &             \\\\\n\\textbf{Covariance Type:}  &    nonrobust     & \\textbf{                     } &             \\\\\n\\bottomrule\n\\end{tabular}\n\\begin{tabular}{lcccccc}\n                       & \\textbf{coef} & \\textbf{std err} & \\textbf{t} & \\textbf{P$> |$t$|$} & \\textbf{[0.025} & \\textbf{0.975]}  \\\\\n\\midrule\n\\textbf{const}         &   -1.155e-14  &        0.053     & -2.18e-13  &         1.000        &       -0.104    &        0.104     \\\\\n\\textbf{x2\\_detrended} &       3.3544  &        0.019     &   178.292  &         0.000        &        3.318    &        3.391     \\\\\n\\bottomrule\n\\end{tabular}\n\\begin{tabular}{lclc}\n\\textbf{Omnibus:}       &  0.497 & \\textbf{  Durbin-Watson:     } &    2.031  \\\\\n\\textbf{Prob(Omnibus):} &  0.780 & \\textbf{  Jarque-Bera (JB):  } &    0.394  \\\\\n\\textbf{Skew:}          & -0.036 & \\textbf{  Prob(JB):          } &    0.821  \\\\\n\\textbf{Kurtosis:}      &  3.066 & \\textbf{  Cond. No.          } &     2.82  \\\\\n\\bottomrule\n\\end{tabular}\n%\\caption{OLS Regression Results}\n\\end{center}\n\nNotes: \\newline\n [1] Standard Errors assume that the covariance matrix of the errors is correctly specified."
     },
     "execution_count": 5,
     "metadata": {},
     "output_type": "execute_result"
    }
   ],
   "execution_count": 5
  },
  {
   "cell_type": "markdown",
   "id": "cadade48",
   "metadata": {},
   "source": [
    "# А теперь задачка :)\n",
    "\n",
    "Возьмите данные c kaggle, например [отсюда](https://www.kaggle.com/code/malakalaabiad/house-prices-techniques/input) и удостоверьтесь, что FWL-теорема работает, но только не для случая одной переменной :)\n"
   ]
  },
  {
   "cell_type": "code",
   "id": "5cbb8397",
   "metadata": {
    "ExecuteTime": {
     "end_time": "2024-11-04T16:28:51.563886Z",
     "start_time": "2024-11-04T16:28:51.540550Z"
    }
   },
   "source": [
    "df =  pd.read_csv(\"./hw3_data/boston.csv\")\n",
    "df.insert(1, 'СONST', 1)\n",
    "df.head(1)"
   ],
   "outputs": [
    {
     "data": {
      "text/plain": [
       "      CRIM  СONST    ZN  INDUS  CHAS    NOX     RM   AGE   DIS  RAD    TAX  \\\n",
       "0  0.00632      1  18.0   2.31     0  0.538  6.575  65.2  4.09    1  296.0   \n",
       "\n",
       "   PTRATIO      B  LSTAT  MEDV  \n",
       "0     15.3  396.9   4.98  24.0  "
      ],
      "text/html": [
       "<div>\n",
       "<style scoped>\n",
       "    .dataframe tbody tr th:only-of-type {\n",
       "        vertical-align: middle;\n",
       "    }\n",
       "\n",
       "    .dataframe tbody tr th {\n",
       "        vertical-align: top;\n",
       "    }\n",
       "\n",
       "    .dataframe thead th {\n",
       "        text-align: right;\n",
       "    }\n",
       "</style>\n",
       "<table border=\"1\" class=\"dataframe\">\n",
       "  <thead>\n",
       "    <tr style=\"text-align: right;\">\n",
       "      <th></th>\n",
       "      <th>CRIM</th>\n",
       "      <th>СONST</th>\n",
       "      <th>ZN</th>\n",
       "      <th>INDUS</th>\n",
       "      <th>CHAS</th>\n",
       "      <th>NOX</th>\n",
       "      <th>RM</th>\n",
       "      <th>AGE</th>\n",
       "      <th>DIS</th>\n",
       "      <th>RAD</th>\n",
       "      <th>TAX</th>\n",
       "      <th>PTRATIO</th>\n",
       "      <th>B</th>\n",
       "      <th>LSTAT</th>\n",
       "      <th>MEDV</th>\n",
       "    </tr>\n",
       "  </thead>\n",
       "  <tbody>\n",
       "    <tr>\n",
       "      <th>0</th>\n",
       "      <td>0.00632</td>\n",
       "      <td>1</td>\n",
       "      <td>18.0</td>\n",
       "      <td>2.31</td>\n",
       "      <td>0</td>\n",
       "      <td>0.538</td>\n",
       "      <td>6.575</td>\n",
       "      <td>65.2</td>\n",
       "      <td>4.09</td>\n",
       "      <td>1</td>\n",
       "      <td>296.0</td>\n",
       "      <td>15.3</td>\n",
       "      <td>396.9</td>\n",
       "      <td>4.98</td>\n",
       "      <td>24.0</td>\n",
       "    </tr>\n",
       "  </tbody>\n",
       "</table>\n",
       "</div>"
      ]
     },
     "execution_count": 6,
     "metadata": {},
     "output_type": "execute_result"
    }
   ],
   "execution_count": 6
  },
  {
   "cell_type": "code",
   "id": "b3c2cc9a-aa59-479b-a14d-e0053b543045",
   "metadata": {
    "ExecuteTime": {
     "end_time": "2024-11-04T16:28:51.760604Z",
     "start_time": "2024-11-04T16:28:51.725917Z"
    }
   },
   "source": [
    "Y = df[\"MEDV\"]\n",
    "X = df.iloc[:,:-1]\n",
    "X1 = df.loc[:,:\"RAD\"]\n",
    "X2 = df.loc[:,\"TAX\":\"LSTAT\"]\n",
    "X2"
   ],
   "outputs": [
    {
     "data": {
      "text/plain": [
       "       TAX  PTRATIO       B  LSTAT\n",
       "0    296.0     15.3  396.90   4.98\n",
       "1    242.0     17.8  396.90   9.14\n",
       "2    242.0     17.8  392.83   4.03\n",
       "3    222.0     18.7  394.63   2.94\n",
       "4    222.0     18.7  396.90   5.33\n",
       "..     ...      ...     ...    ...\n",
       "501  273.0     21.0  391.99   9.67\n",
       "502  273.0     21.0  396.90   9.08\n",
       "503  273.0     21.0  396.90   5.64\n",
       "504  273.0     21.0  393.45   6.48\n",
       "505  273.0     21.0  396.90   7.88\n",
       "\n",
       "[506 rows x 4 columns]"
      ],
      "text/html": [
       "<div>\n",
       "<style scoped>\n",
       "    .dataframe tbody tr th:only-of-type {\n",
       "        vertical-align: middle;\n",
       "    }\n",
       "\n",
       "    .dataframe tbody tr th {\n",
       "        vertical-align: top;\n",
       "    }\n",
       "\n",
       "    .dataframe thead th {\n",
       "        text-align: right;\n",
       "    }\n",
       "</style>\n",
       "<table border=\"1\" class=\"dataframe\">\n",
       "  <thead>\n",
       "    <tr style=\"text-align: right;\">\n",
       "      <th></th>\n",
       "      <th>TAX</th>\n",
       "      <th>PTRATIO</th>\n",
       "      <th>B</th>\n",
       "      <th>LSTAT</th>\n",
       "    </tr>\n",
       "  </thead>\n",
       "  <tbody>\n",
       "    <tr>\n",
       "      <th>0</th>\n",
       "      <td>296.0</td>\n",
       "      <td>15.3</td>\n",
       "      <td>396.90</td>\n",
       "      <td>4.98</td>\n",
       "    </tr>\n",
       "    <tr>\n",
       "      <th>1</th>\n",
       "      <td>242.0</td>\n",
       "      <td>17.8</td>\n",
       "      <td>396.90</td>\n",
       "      <td>9.14</td>\n",
       "    </tr>\n",
       "    <tr>\n",
       "      <th>2</th>\n",
       "      <td>242.0</td>\n",
       "      <td>17.8</td>\n",
       "      <td>392.83</td>\n",
       "      <td>4.03</td>\n",
       "    </tr>\n",
       "    <tr>\n",
       "      <th>3</th>\n",
       "      <td>222.0</td>\n",
       "      <td>18.7</td>\n",
       "      <td>394.63</td>\n",
       "      <td>2.94</td>\n",
       "    </tr>\n",
       "    <tr>\n",
       "      <th>4</th>\n",
       "      <td>222.0</td>\n",
       "      <td>18.7</td>\n",
       "      <td>396.90</td>\n",
       "      <td>5.33</td>\n",
       "    </tr>\n",
       "    <tr>\n",
       "      <th>...</th>\n",
       "      <td>...</td>\n",
       "      <td>...</td>\n",
       "      <td>...</td>\n",
       "      <td>...</td>\n",
       "    </tr>\n",
       "    <tr>\n",
       "      <th>501</th>\n",
       "      <td>273.0</td>\n",
       "      <td>21.0</td>\n",
       "      <td>391.99</td>\n",
       "      <td>9.67</td>\n",
       "    </tr>\n",
       "    <tr>\n",
       "      <th>502</th>\n",
       "      <td>273.0</td>\n",
       "      <td>21.0</td>\n",
       "      <td>396.90</td>\n",
       "      <td>9.08</td>\n",
       "    </tr>\n",
       "    <tr>\n",
       "      <th>503</th>\n",
       "      <td>273.0</td>\n",
       "      <td>21.0</td>\n",
       "      <td>396.90</td>\n",
       "      <td>5.64</td>\n",
       "    </tr>\n",
       "    <tr>\n",
       "      <th>504</th>\n",
       "      <td>273.0</td>\n",
       "      <td>21.0</td>\n",
       "      <td>393.45</td>\n",
       "      <td>6.48</td>\n",
       "    </tr>\n",
       "    <tr>\n",
       "      <th>505</th>\n",
       "      <td>273.0</td>\n",
       "      <td>21.0</td>\n",
       "      <td>396.90</td>\n",
       "      <td>7.88</td>\n",
       "    </tr>\n",
       "  </tbody>\n",
       "</table>\n",
       "<p>506 rows × 4 columns</p>\n",
       "</div>"
      ]
     },
     "execution_count": 7,
     "metadata": {},
     "output_type": "execute_result"
    }
   ],
   "execution_count": 7
  },
  {
   "cell_type": "code",
   "id": "c5073955-c833-4333-96b0-6b77cd730293",
   "metadata": {
    "ExecuteTime": {
     "end_time": "2024-11-04T16:28:51.955380Z",
     "start_time": "2024-11-04T16:28:51.865169Z"
    }
   },
   "source": [
    "model_full = sm.OLS(Y, X).fit()\n",
    "model_full.summary()"
   ],
   "outputs": [
    {
     "data": {
      "text/plain": [
       "<class 'statsmodels.iolib.summary.Summary'>\n",
       "\"\"\"\n",
       "                            OLS Regression Results                            \n",
       "==============================================================================\n",
       "Dep. Variable:                   MEDV   R-squared:                       0.741\n",
       "Model:                            OLS   Adj. R-squared:                  0.734\n",
       "Method:                 Least Squares   F-statistic:                     108.1\n",
       "Date:                Mon, 04 Nov 2024   Prob (F-statistic):          6.72e-135\n",
       "Time:                        19:28:51   Log-Likelihood:                -1498.8\n",
       "No. Observations:                 506   AIC:                             3026.\n",
       "Df Residuals:                     492   BIC:                             3085.\n",
       "Df Model:                          13                                         \n",
       "Covariance Type:            nonrobust                                         \n",
       "==============================================================================\n",
       "                 coef    std err          t      P>|t|      [0.025      0.975]\n",
       "------------------------------------------------------------------------------\n",
       "CRIM          -0.1080      0.033     -3.287      0.001      -0.173      -0.043\n",
       "СONST         36.4595      5.103      7.144      0.000      26.432      46.487\n",
       "ZN             0.0464      0.014      3.382      0.001       0.019       0.073\n",
       "INDUS          0.0206      0.061      0.334      0.738      -0.100       0.141\n",
       "CHAS           2.6867      0.862      3.118      0.002       0.994       4.380\n",
       "NOX          -17.7666      3.820     -4.651      0.000     -25.272     -10.262\n",
       "RM             3.8099      0.418      9.116      0.000       2.989       4.631\n",
       "AGE            0.0007      0.013      0.052      0.958      -0.025       0.027\n",
       "DIS           -1.4756      0.199     -7.398      0.000      -1.867      -1.084\n",
       "RAD            0.3060      0.066      4.613      0.000       0.176       0.436\n",
       "TAX           -0.0123      0.004     -3.280      0.001      -0.020      -0.005\n",
       "PTRATIO       -0.9527      0.131     -7.283      0.000      -1.210      -0.696\n",
       "B              0.0093      0.003      3.467      0.001       0.004       0.015\n",
       "LSTAT         -0.5248      0.051    -10.347      0.000      -0.624      -0.425\n",
       "==============================================================================\n",
       "Omnibus:                      178.041   Durbin-Watson:                   1.078\n",
       "Prob(Omnibus):                  0.000   Jarque-Bera (JB):              783.126\n",
       "Skew:                           1.521   Prob(JB):                    8.84e-171\n",
       "Kurtosis:                       8.281   Cond. No.                     1.51e+04\n",
       "==============================================================================\n",
       "\n",
       "Notes:\n",
       "[1] Standard Errors assume that the covariance matrix of the errors is correctly specified.\n",
       "[2] The condition number is large, 1.51e+04. This might indicate that there are\n",
       "strong multicollinearity or other numerical problems.\n",
       "\"\"\""
      ],
      "text/html": [
       "<table class=\"simpletable\">\n",
       "<caption>OLS Regression Results</caption>\n",
       "<tr>\n",
       "  <th>Dep. Variable:</th>          <td>MEDV</td>       <th>  R-squared:         </th> <td>   0.741</td> \n",
       "</tr>\n",
       "<tr>\n",
       "  <th>Model:</th>                   <td>OLS</td>       <th>  Adj. R-squared:    </th> <td>   0.734</td> \n",
       "</tr>\n",
       "<tr>\n",
       "  <th>Method:</th>             <td>Least Squares</td>  <th>  F-statistic:       </th> <td>   108.1</td> \n",
       "</tr>\n",
       "<tr>\n",
       "  <th>Date:</th>             <td>Mon, 04 Nov 2024</td> <th>  Prob (F-statistic):</th> <td>6.72e-135</td>\n",
       "</tr>\n",
       "<tr>\n",
       "  <th>Time:</th>                 <td>19:28:51</td>     <th>  Log-Likelihood:    </th> <td> -1498.8</td> \n",
       "</tr>\n",
       "<tr>\n",
       "  <th>No. Observations:</th>      <td>   506</td>      <th>  AIC:               </th> <td>   3026.</td> \n",
       "</tr>\n",
       "<tr>\n",
       "  <th>Df Residuals:</th>          <td>   492</td>      <th>  BIC:               </th> <td>   3085.</td> \n",
       "</tr>\n",
       "<tr>\n",
       "  <th>Df Model:</th>              <td>    13</td>      <th>                     </th>     <td> </td>    \n",
       "</tr>\n",
       "<tr>\n",
       "  <th>Covariance Type:</th>      <td>nonrobust</td>    <th>                     </th>     <td> </td>    \n",
       "</tr>\n",
       "</table>\n",
       "<table class=\"simpletable\">\n",
       "<tr>\n",
       "     <td></td>        <th>coef</th>     <th>std err</th>      <th>t</th>      <th>P>|t|</th>  <th>[0.025</th>    <th>0.975]</th>  \n",
       "</tr>\n",
       "<tr>\n",
       "  <th>CRIM</th>    <td>   -0.1080</td> <td>    0.033</td> <td>   -3.287</td> <td> 0.001</td> <td>   -0.173</td> <td>   -0.043</td>\n",
       "</tr>\n",
       "<tr>\n",
       "  <th>СONST</th>   <td>   36.4595</td> <td>    5.103</td> <td>    7.144</td> <td> 0.000</td> <td>   26.432</td> <td>   46.487</td>\n",
       "</tr>\n",
       "<tr>\n",
       "  <th>ZN</th>      <td>    0.0464</td> <td>    0.014</td> <td>    3.382</td> <td> 0.001</td> <td>    0.019</td> <td>    0.073</td>\n",
       "</tr>\n",
       "<tr>\n",
       "  <th>INDUS</th>   <td>    0.0206</td> <td>    0.061</td> <td>    0.334</td> <td> 0.738</td> <td>   -0.100</td> <td>    0.141</td>\n",
       "</tr>\n",
       "<tr>\n",
       "  <th>CHAS</th>    <td>    2.6867</td> <td>    0.862</td> <td>    3.118</td> <td> 0.002</td> <td>    0.994</td> <td>    4.380</td>\n",
       "</tr>\n",
       "<tr>\n",
       "  <th>NOX</th>     <td>  -17.7666</td> <td>    3.820</td> <td>   -4.651</td> <td> 0.000</td> <td>  -25.272</td> <td>  -10.262</td>\n",
       "</tr>\n",
       "<tr>\n",
       "  <th>RM</th>      <td>    3.8099</td> <td>    0.418</td> <td>    9.116</td> <td> 0.000</td> <td>    2.989</td> <td>    4.631</td>\n",
       "</tr>\n",
       "<tr>\n",
       "  <th>AGE</th>     <td>    0.0007</td> <td>    0.013</td> <td>    0.052</td> <td> 0.958</td> <td>   -0.025</td> <td>    0.027</td>\n",
       "</tr>\n",
       "<tr>\n",
       "  <th>DIS</th>     <td>   -1.4756</td> <td>    0.199</td> <td>   -7.398</td> <td> 0.000</td> <td>   -1.867</td> <td>   -1.084</td>\n",
       "</tr>\n",
       "<tr>\n",
       "  <th>RAD</th>     <td>    0.3060</td> <td>    0.066</td> <td>    4.613</td> <td> 0.000</td> <td>    0.176</td> <td>    0.436</td>\n",
       "</tr>\n",
       "<tr>\n",
       "  <th>TAX</th>     <td>   -0.0123</td> <td>    0.004</td> <td>   -3.280</td> <td> 0.001</td> <td>   -0.020</td> <td>   -0.005</td>\n",
       "</tr>\n",
       "<tr>\n",
       "  <th>PTRATIO</th> <td>   -0.9527</td> <td>    0.131</td> <td>   -7.283</td> <td> 0.000</td> <td>   -1.210</td> <td>   -0.696</td>\n",
       "</tr>\n",
       "<tr>\n",
       "  <th>B</th>       <td>    0.0093</td> <td>    0.003</td> <td>    3.467</td> <td> 0.001</td> <td>    0.004</td> <td>    0.015</td>\n",
       "</tr>\n",
       "<tr>\n",
       "  <th>LSTAT</th>   <td>   -0.5248</td> <td>    0.051</td> <td>  -10.347</td> <td> 0.000</td> <td>   -0.624</td> <td>   -0.425</td>\n",
       "</tr>\n",
       "</table>\n",
       "<table class=\"simpletable\">\n",
       "<tr>\n",
       "  <th>Omnibus:</th>       <td>178.041</td> <th>  Durbin-Watson:     </th> <td>   1.078</td> \n",
       "</tr>\n",
       "<tr>\n",
       "  <th>Prob(Omnibus):</th> <td> 0.000</td>  <th>  Jarque-Bera (JB):  </th> <td> 783.126</td> \n",
       "</tr>\n",
       "<tr>\n",
       "  <th>Skew:</th>          <td> 1.521</td>  <th>  Prob(JB):          </th> <td>8.84e-171</td>\n",
       "</tr>\n",
       "<tr>\n",
       "  <th>Kurtosis:</th>      <td> 8.281</td>  <th>  Cond. No.          </th> <td>1.51e+04</td> \n",
       "</tr>\n",
       "</table><br/><br/>Notes:<br/>[1] Standard Errors assume that the covariance matrix of the errors is correctly specified.<br/>[2] The condition number is large, 1.51e+04. This might indicate that there are<br/>strong multicollinearity or other numerical problems."
      ],
      "text/latex": "\\begin{center}\n\\begin{tabular}{lclc}\n\\toprule\n\\textbf{Dep. Variable:}    &       MEDV       & \\textbf{  R-squared:         } &     0.741   \\\\\n\\textbf{Model:}            &       OLS        & \\textbf{  Adj. R-squared:    } &     0.734   \\\\\n\\textbf{Method:}           &  Least Squares   & \\textbf{  F-statistic:       } &     108.1   \\\\\n\\textbf{Date:}             & Mon, 04 Nov 2024 & \\textbf{  Prob (F-statistic):} & 6.72e-135   \\\\\n\\textbf{Time:}             &     19:28:51     & \\textbf{  Log-Likelihood:    } &   -1498.8   \\\\\n\\textbf{No. Observations:} &         506      & \\textbf{  AIC:               } &     3026.   \\\\\n\\textbf{Df Residuals:}     &         492      & \\textbf{  BIC:               } &     3085.   \\\\\n\\textbf{Df Model:}         &          13      & \\textbf{                     } &             \\\\\n\\textbf{Covariance Type:}  &    nonrobust     & \\textbf{                     } &             \\\\\n\\bottomrule\n\\end{tabular}\n\\begin{tabular}{lcccccc}\n                 & \\textbf{coef} & \\textbf{std err} & \\textbf{t} & \\textbf{P$> |$t$|$} & \\textbf{[0.025} & \\textbf{0.975]}  \\\\\n\\midrule\n\\textbf{CRIM}    &      -0.1080  &        0.033     &    -3.287  &         0.001        &       -0.173    &       -0.043     \\\\\n\\textbf{СONST}   &      36.4595  &        5.103     &     7.144  &         0.000        &       26.432    &       46.487     \\\\\n\\textbf{ZN}      &       0.0464  &        0.014     &     3.382  &         0.001        &        0.019    &        0.073     \\\\\n\\textbf{INDUS}   &       0.0206  &        0.061     &     0.334  &         0.738        &       -0.100    &        0.141     \\\\\n\\textbf{CHAS}    &       2.6867  &        0.862     &     3.118  &         0.002        &        0.994    &        4.380     \\\\\n\\textbf{NOX}     &     -17.7666  &        3.820     &    -4.651  &         0.000        &      -25.272    &      -10.262     \\\\\n\\textbf{RM}      &       3.8099  &        0.418     &     9.116  &         0.000        &        2.989    &        4.631     \\\\\n\\textbf{AGE}     &       0.0007  &        0.013     &     0.052  &         0.958        &       -0.025    &        0.027     \\\\\n\\textbf{DIS}     &      -1.4756  &        0.199     &    -7.398  &         0.000        &       -1.867    &       -1.084     \\\\\n\\textbf{RAD}     &       0.3060  &        0.066     &     4.613  &         0.000        &        0.176    &        0.436     \\\\\n\\textbf{TAX}     &      -0.0123  &        0.004     &    -3.280  &         0.001        &       -0.020    &       -0.005     \\\\\n\\textbf{PTRATIO} &      -0.9527  &        0.131     &    -7.283  &         0.000        &       -1.210    &       -0.696     \\\\\n\\textbf{B}       &       0.0093  &        0.003     &     3.467  &         0.001        &        0.004    &        0.015     \\\\\n\\textbf{LSTAT}   &      -0.5248  &        0.051     &   -10.347  &         0.000        &       -0.624    &       -0.425     \\\\\n\\bottomrule\n\\end{tabular}\n\\begin{tabular}{lclc}\n\\textbf{Omnibus:}       & 178.041 & \\textbf{  Durbin-Watson:     } &     1.078  \\\\\n\\textbf{Prob(Omnibus):} &   0.000 & \\textbf{  Jarque-Bera (JB):  } &   783.126  \\\\\n\\textbf{Skew:}          &   1.521 & \\textbf{  Prob(JB):          } & 8.84e-171  \\\\\n\\textbf{Kurtosis:}      &   8.281 & \\textbf{  Cond. No.          } &  1.51e+04  \\\\\n\\bottomrule\n\\end{tabular}\n%\\caption{OLS Regression Results}\n\\end{center}\n\nNotes: \\newline\n [1] Standard Errors assume that the covariance matrix of the errors is correctly specified. \\newline\n [2] The condition number is large, 1.51e+04. This might indicate that there are \\newline\n strong multicollinearity or other numerical problems."
     },
     "execution_count": 8,
     "metadata": {},
     "output_type": "execute_result"
    }
   ],
   "execution_count": 8
  },
  {
   "cell_type": "code",
   "id": "c18255c7-a4e6-4c49-bac7-9c9a790eb983",
   "metadata": {
    "ExecuteTime": {
     "end_time": "2024-11-04T16:28:52.165970Z",
     "start_time": "2024-11-04T16:28:52.159015Z"
    }
   },
   "source": [
    "model_part_1 = sm.OLS(Y, X1).fit()\n",
    "residuals_Y = model_part_1.resid"
   ],
   "outputs": [],
   "execution_count": 9
  },
  {
   "cell_type": "code",
   "id": "830eb52c-d510-4f2d-baff-703e9a0b4ed8",
   "metadata": {
    "ExecuteTime": {
     "end_time": "2024-11-04T16:28:52.287320Z",
     "start_time": "2024-11-04T16:28:52.264010Z"
    }
   },
   "source": [
    "model_part_2 = sm.OLS(X2, X1).fit()\n",
    "residuals_X12 = model_part_2.resid\n",
    "#добавляем ещё раз константу\n",
    "residuals_X12 = sm.add_constant(residuals_X12)"
   ],
   "outputs": [],
   "execution_count": 10
  },
  {
   "cell_type": "code",
   "id": "f76b55d7-baa5-451b-bc0e-429466b68120",
   "metadata": {
    "ExecuteTime": {
     "end_time": "2024-11-04T16:28:52.340841Z",
     "start_time": "2024-11-04T16:28:52.298322Z"
    }
   },
   "source": [
    "final = sm.OLS(residuals_Y, residuals_X12).fit()\n",
    "final.summary()"
   ],
   "outputs": [
    {
     "data": {
      "text/plain": [
       "<class 'statsmodels.iolib.summary.Summary'>\n",
       "\"\"\"\n",
       "                            OLS Regression Results                            \n",
       "==============================================================================\n",
       "Dep. Variable:                      y   R-squared:                       0.295\n",
       "Model:                            OLS   Adj. R-squared:                  0.290\n",
       "Method:                 Least Squares   F-statistic:                     52.49\n",
       "Date:                Mon, 04 Nov 2024   Prob (F-statistic):           6.26e-37\n",
       "Time:                        19:28:52   Log-Likelihood:                -1498.8\n",
       "No. Observations:                 506   AIC:                             3008.\n",
       "Df Residuals:                     501   BIC:                             3029.\n",
       "Df Model:                           4                                         \n",
       "Covariance Type:            nonrobust                                         \n",
       "==============================================================================\n",
       "                 coef    std err          t      P>|t|      [0.025      0.975]\n",
       "------------------------------------------------------------------------------\n",
       "const       1.724e-13      0.209   8.25e-13      1.000      -0.411       0.411\n",
       "TAX           -0.0123      0.004     -3.310      0.001      -0.020      -0.005\n",
       "PTRATIO       -0.9527      0.130     -7.349      0.000      -1.207      -0.698\n",
       "B              0.0093      0.003      3.498      0.001       0.004       0.015\n",
       "LSTAT         -0.5248      0.050    -10.441      0.000      -0.624      -0.426\n",
       "==============================================================================\n",
       "Omnibus:                      178.041   Durbin-Watson:                   1.078\n",
       "Prob(Omnibus):                  0.000   Jarque-Bera (JB):              783.126\n",
       "Skew:                           1.521   Prob(JB):                    8.84e-171\n",
       "Kurtosis:                       8.281   Cond. No.                         79.6\n",
       "==============================================================================\n",
       "\n",
       "Notes:\n",
       "[1] Standard Errors assume that the covariance matrix of the errors is correctly specified.\n",
       "\"\"\""
      ],
      "text/html": [
       "<table class=\"simpletable\">\n",
       "<caption>OLS Regression Results</caption>\n",
       "<tr>\n",
       "  <th>Dep. Variable:</th>            <td>y</td>        <th>  R-squared:         </th> <td>   0.295</td>\n",
       "</tr>\n",
       "<tr>\n",
       "  <th>Model:</th>                   <td>OLS</td>       <th>  Adj. R-squared:    </th> <td>   0.290</td>\n",
       "</tr>\n",
       "<tr>\n",
       "  <th>Method:</th>             <td>Least Squares</td>  <th>  F-statistic:       </th> <td>   52.49</td>\n",
       "</tr>\n",
       "<tr>\n",
       "  <th>Date:</th>             <td>Mon, 04 Nov 2024</td> <th>  Prob (F-statistic):</th> <td>6.26e-37</td>\n",
       "</tr>\n",
       "<tr>\n",
       "  <th>Time:</th>                 <td>19:28:52</td>     <th>  Log-Likelihood:    </th> <td> -1498.8</td>\n",
       "</tr>\n",
       "<tr>\n",
       "  <th>No. Observations:</th>      <td>   506</td>      <th>  AIC:               </th> <td>   3008.</td>\n",
       "</tr>\n",
       "<tr>\n",
       "  <th>Df Residuals:</th>          <td>   501</td>      <th>  BIC:               </th> <td>   3029.</td>\n",
       "</tr>\n",
       "<tr>\n",
       "  <th>Df Model:</th>              <td>     4</td>      <th>                     </th>     <td> </td>   \n",
       "</tr>\n",
       "<tr>\n",
       "  <th>Covariance Type:</th>      <td>nonrobust</td>    <th>                     </th>     <td> </td>   \n",
       "</tr>\n",
       "</table>\n",
       "<table class=\"simpletable\">\n",
       "<tr>\n",
       "     <td></td>        <th>coef</th>     <th>std err</th>      <th>t</th>      <th>P>|t|</th>  <th>[0.025</th>    <th>0.975]</th>  \n",
       "</tr>\n",
       "<tr>\n",
       "  <th>const</th>   <td> 1.724e-13</td> <td>    0.209</td> <td> 8.25e-13</td> <td> 1.000</td> <td>   -0.411</td> <td>    0.411</td>\n",
       "</tr>\n",
       "<tr>\n",
       "  <th>TAX</th>     <td>   -0.0123</td> <td>    0.004</td> <td>   -3.310</td> <td> 0.001</td> <td>   -0.020</td> <td>   -0.005</td>\n",
       "</tr>\n",
       "<tr>\n",
       "  <th>PTRATIO</th> <td>   -0.9527</td> <td>    0.130</td> <td>   -7.349</td> <td> 0.000</td> <td>   -1.207</td> <td>   -0.698</td>\n",
       "</tr>\n",
       "<tr>\n",
       "  <th>B</th>       <td>    0.0093</td> <td>    0.003</td> <td>    3.498</td> <td> 0.001</td> <td>    0.004</td> <td>    0.015</td>\n",
       "</tr>\n",
       "<tr>\n",
       "  <th>LSTAT</th>   <td>   -0.5248</td> <td>    0.050</td> <td>  -10.441</td> <td> 0.000</td> <td>   -0.624</td> <td>   -0.426</td>\n",
       "</tr>\n",
       "</table>\n",
       "<table class=\"simpletable\">\n",
       "<tr>\n",
       "  <th>Omnibus:</th>       <td>178.041</td> <th>  Durbin-Watson:     </th> <td>   1.078</td> \n",
       "</tr>\n",
       "<tr>\n",
       "  <th>Prob(Omnibus):</th> <td> 0.000</td>  <th>  Jarque-Bera (JB):  </th> <td> 783.126</td> \n",
       "</tr>\n",
       "<tr>\n",
       "  <th>Skew:</th>          <td> 1.521</td>  <th>  Prob(JB):          </th> <td>8.84e-171</td>\n",
       "</tr>\n",
       "<tr>\n",
       "  <th>Kurtosis:</th>      <td> 8.281</td>  <th>  Cond. No.          </th> <td>    79.6</td> \n",
       "</tr>\n",
       "</table><br/><br/>Notes:<br/>[1] Standard Errors assume that the covariance matrix of the errors is correctly specified."
      ],
      "text/latex": "\\begin{center}\n\\begin{tabular}{lclc}\n\\toprule\n\\textbf{Dep. Variable:}    &        y         & \\textbf{  R-squared:         } &     0.295   \\\\\n\\textbf{Model:}            &       OLS        & \\textbf{  Adj. R-squared:    } &     0.290   \\\\\n\\textbf{Method:}           &  Least Squares   & \\textbf{  F-statistic:       } &     52.49   \\\\\n\\textbf{Date:}             & Mon, 04 Nov 2024 & \\textbf{  Prob (F-statistic):} &  6.26e-37   \\\\\n\\textbf{Time:}             &     19:28:52     & \\textbf{  Log-Likelihood:    } &   -1498.8   \\\\\n\\textbf{No. Observations:} &         506      & \\textbf{  AIC:               } &     3008.   \\\\\n\\textbf{Df Residuals:}     &         501      & \\textbf{  BIC:               } &     3029.   \\\\\n\\textbf{Df Model:}         &           4      & \\textbf{                     } &             \\\\\n\\textbf{Covariance Type:}  &    nonrobust     & \\textbf{                     } &             \\\\\n\\bottomrule\n\\end{tabular}\n\\begin{tabular}{lcccccc}\n                 & \\textbf{coef} & \\textbf{std err} & \\textbf{t} & \\textbf{P$> |$t$|$} & \\textbf{[0.025} & \\textbf{0.975]}  \\\\\n\\midrule\n\\textbf{const}   &    1.724e-13  &        0.209     &  8.25e-13  &         1.000        &       -0.411    &        0.411     \\\\\n\\textbf{TAX}     &      -0.0123  &        0.004     &    -3.310  &         0.001        &       -0.020    &       -0.005     \\\\\n\\textbf{PTRATIO} &      -0.9527  &        0.130     &    -7.349  &         0.000        &       -1.207    &       -0.698     \\\\\n\\textbf{B}       &       0.0093  &        0.003     &     3.498  &         0.001        &        0.004    &        0.015     \\\\\n\\textbf{LSTAT}   &      -0.5248  &        0.050     &   -10.441  &         0.000        &       -0.624    &       -0.426     \\\\\n\\bottomrule\n\\end{tabular}\n\\begin{tabular}{lclc}\n\\textbf{Omnibus:}       & 178.041 & \\textbf{  Durbin-Watson:     } &     1.078  \\\\\n\\textbf{Prob(Omnibus):} &   0.000 & \\textbf{  Jarque-Bera (JB):  } &   783.126  \\\\\n\\textbf{Skew:}          &   1.521 & \\textbf{  Prob(JB):          } & 8.84e-171  \\\\\n\\textbf{Kurtosis:}      &   8.281 & \\textbf{  Cond. No.          } &      79.6  \\\\\n\\bottomrule\n\\end{tabular}\n%\\caption{OLS Regression Results}\n\\end{center}\n\nNotes: \\newline\n [1] Standard Errors assume that the covariance matrix of the errors is correctly specified."
     },
     "execution_count": 11,
     "metadata": {},
     "output_type": "execute_result"
    }
   ],
   "execution_count": 11
  },
  {
   "cell_type": "raw",
   "id": "36287c44-fcdc-4698-9f5a-415f7affe616",
   "metadata": {},
   "source": [
    "Значения коэффицентов на усечённом наборе предикторов(TAX,PTRATIO,B, LSTAT) такие же как в общей модели "
   ]
  },
  {
   "cell_type": "markdown",
   "id": "5ae46019",
   "metadata": {},
   "source": [
    "# Про эквивалентность или не эквивалентность разных методов подсчета квантилей\n",
    "\n",
    "Сгенерируйте 2 выборки длины ,например, 10000 из:\n",
    "\n",
    "1. Нормального\n",
    "2. Логнормального\n",
    "3. Экспоненциального\n",
    "\n",
    "Распределений с наперед заданными параметрами, так чтобы вы могли однозначно посчитать разницу медиан (используя теорвер и википедию)\n",
    "\n",
    "\n",
    "\n",
    "Проверьте, какой по этим выборкам будет получаться 95% доверительный интервал на разницу медиан, если его посчитать с помощью:\n",
    "\n",
    "1. Бутстрепа\n",
    "2. [Подгонки](https://engineering.atspotify.com/2022/03/comparing-quantiles-at-scale-in-online-a-b-testing/) от Spotify\n",
    "3. [Подгонки](https://www.evanmiller.org/bootstrapping-sample-medians.html) результатов бутстрепа от Эвана Миллера\n",
    "4. [Метода Прайса-Боннетта](https://www.tandfonline.com/doi/abs/10.1080/00949650212140)\n",
    "\n",
    "Что вы можете сказать о работоспособности методов?\n",
    "\n",
    "(можно попробовать подать на вход какие-то другие распределения, как бы провести \"стресс-тест\" метода)\n"
   ]
  },
  {
   "cell_type": "code",
   "id": "88f4f414-6bfa-4fea-986d-ce5e48a0aeb4",
   "metadata": {
    "ExecuteTime": {
     "end_time": "2024-11-04T16:28:52.420810Z",
     "start_time": "2024-11-04T16:28:52.383624Z"
    }
   },
   "source": [
    "def PoissonBootstrap(data, agg_func, n_iter = 1000, alpha =  0.05):\n",
    "\n",
    "    point_estimation  = agg_func(data)\n",
    "    data = np.array(data)\n",
    "    n = len(data)\n",
    "\n",
    "    weights = np.random.poisson(1, (n_iter, n)) # Пуассоним\n",
    "\n",
    "    statistics_over_samples = []\n",
    "\n",
    "    for weight in weights:\n",
    "        resampled_data = np.repeat(data, weight) # семпл\n",
    "        statistics_over_samples.append(agg_func(resampled_data))\n",
    "\n",
    "    return point_estimation, np.array(statistics_over_samples)"
   ],
   "outputs": [],
   "execution_count": 12
  },
  {
   "cell_type": "code",
   "id": "045bd0aa",
   "metadata": {
    "ExecuteTime": {
     "end_time": "2024-11-04T16:28:52.490048Z",
     "start_time": "2024-11-04T16:28:52.480338Z"
    }
   },
   "source": [
    "alpha=.05\n",
    "quantile_of_interest=0.5 #равносильно медиане\n",
    "sample_size=10000\n",
    "number_of_bootstrap_samples=1000"
   ],
   "outputs": [],
   "execution_count": 13
  },
  {
   "cell_type": "code",
   "id": "cc132870-8223-480e-a04f-d359755db1ca",
   "metadata": {
    "ExecuteTime": {
     "end_time": "2024-11-04T16:28:52.551581Z",
     "start_time": "2024-11-04T16:28:52.540563Z"
    }
   },
   "source": [
    "def BesselProbabilityApproximation(n):\n",
    "    \"\"\"\n",
    "    Будем вычислять вероятность только по бесселевой функции нулего порядка.\n",
    "    Для выборки порядка 1000 явное вычисление формулы 2*np.exp(-n+1)*sc.ive(0, z) перестаёт работать\n",
    "    там  получаются числа порядка e^400 от бесселевской функции. Поэтому ive заменил асипмтотикой \n",
    "    и  посчитал приближение на бесконенчости\n",
    "    \"\"\"\n",
    "    z  = 2* np.sqrt(np.array([(n-i+1)*i for i in range(1,n+1)]))\n",
    "    const = 2* np.exp(2)/ np.sqrt(2*np.pi)\n",
    "    index = np.arange(1, n+1)\n",
    "    final_arg =  (z - index) - z**2/(4*index)\n",
    "    return const*(1 + 8/z)*np.exp(final_arg)/np.sqrt(z) "
   ],
   "outputs": [],
   "execution_count": 14
  },
  {
   "cell_type": "code",
   "id": "00fa6fb9-f3a3-4a4e-bd7a-da02b54ab1e4",
   "metadata": {
    "ExecuteTime": {
     "end_time": "2024-11-04T16:28:52.617377Z",
     "start_time": "2024-11-04T16:28:52.604905Z"
    }
   },
   "source": [
    "def BesselProbabilityApproxiamtionIntegral(n):\n",
    "    base  = 2*np.sqrt(np.array([(n-i+1)*i for i in range(1,n+1)]))\n",
    "    results = np.zeros_like(base)\n",
    "    def integrand(t, x):\n",
    "        return np.exp(x * np.cos(t) - (n-1))\n",
    "    for i, x in enumerate(base):\n",
    "        integral, _ = quad(integrand, 0, np.pi, args=(x))\n",
    "        results[i] = 2*integral / np.pi  # Сохраняем результат в массив\n",
    "    return np.array(results)"
   ],
   "outputs": [],
   "execution_count": 15
  },
  {
   "cell_type": "code",
   "id": "0d3491ec-69b0-4e61-a8e3-a709e28bdd28",
   "metadata": {
    "ExecuteTime": {
     "end_time": "2024-11-04T16:28:52.678389Z",
     "start_time": "2024-11-04T16:28:52.669981Z"
    }
   },
   "source": [
    "def BesselProbability(n):\n",
    "    z  = 2*np.sqrt(np.array([(n-i+1)*i for i in range(1,n+1)]))\n",
    "    probabilitites =  2*np.exp(z-n-1)*sc.ive(0, z)\n",
    "    return probabilitites"
   ],
   "outputs": [],
   "execution_count": 16
  },
  {
   "cell_type": "code",
   "id": "fc4fa8e9-0eba-4b7c-8e73-e907e70b2337",
   "metadata": {
    "ExecuteTime": {
     "end_time": "2024-11-04T16:28:52.738196Z",
     "start_time": "2024-11-04T16:28:52.725764Z"
    }
   },
   "source": [
    "def PriceBonet(sample_1, sample_2, alpha=.05):\n",
    "    sample_1 = np.sort(sample_1)\n",
    "    sample_2 = np.sort(sample_2)\n",
    "    get_c = lambda size: int(np.round(((size + 1) / 2) - (size ** (1/2))))\n",
    "    c_1 = get_c(len(sample_1))\n",
    "    c_2 = get_c(len(sample_2))\n",
    "    var_1 = ((sample_1[len(sample_1) - c_1] - sample_1[c_1]) / 4) ** 2\n",
    "    var_2 = ((sample_2[len(sample_2) - c_2] - sample_2[c_2]) / 4) ** 2\n",
    "    diff_med = np.median(sample_1) - np.median(sample_2)\n",
    "    low_b = diff_med - stats.norm.ppf(1 - (alpha/2)) * (var_1 + var_2) ** (1 / 2)\n",
    "    up_b = diff_med + stats.norm.ppf(1 - (alpha/2)) * (var_1 + var_2) ** (1 / 2)\n",
    "    return diff_med, low_b, up_b"
   ],
   "outputs": [],
   "execution_count": 17
  },
  {
   "cell_type": "raw",
   "id": "d2feb484-4dcc-43c1-aba7-55fb5d9077db",
   "metadata": {},
   "source": [
    "Сравним разные способы вычисления бесселевоской функции"
   ]
  },
  {
   "cell_type": "code",
   "id": "786fca6a-4d4f-4c38-881d-835f31b793b0",
   "metadata": {
    "ExecuteTime": {
     "end_time": "2024-11-04T16:29:27.661977Z",
     "start_time": "2024-11-04T16:28:52.786630Z"
    }
   },
   "source": [
    "import time\n",
    "\n",
    "fig, axes = plt.subplots(3, 3, figsize=(15, 10))  # 1 ряд, 3 столбца\n",
    "test_size = 500\n",
    "for i in range(3):\n",
    "    test_size = test_size*(i+1)\n",
    "    indexes = np.arange(0, test_size)\n",
    "    \n",
    "    start_time = time.perf_counter()\n",
    "    probabilities = BesselProbability(test_size)\n",
    "    end_time = time.perf_counter()\n",
    "    axes[i][0].bar(indexes, probabilities/sum(probabilities))\n",
    "    axes[i][0].set_title(f'Analytics, time {(end_time-start_time)*1000} ms')\n",
    "\n",
    "    start_time = time.perf_counter()\n",
    "    probabilities = BesselProbabilityApproximation(test_size)\n",
    "    end_time = time.perf_counter()\n",
    "    axes[i][1].bar(indexes, probabilities/sum(probabilities))\n",
    "    axes[i][1].set_title(f'Asymptotic, time {(end_time-start_time)*1000} ms')\n",
    "    \n",
    "    start_time = time.perf_counter()\n",
    "    probabilities = BesselProbabilityApproxiamtionIntegral(test_size)\n",
    "    end_time = time.perf_counter()\n",
    "    axes[i][2].bar(indexes, probabilities/sum(probabilities))\n",
    "    axes[i][2].set_title(f'Integral, time {(end_time-start_time)*1000} ms')\n",
    "\n",
    "# Показываем графики\n",
    "plt.tight_layout()\n",
    "plt.show()"
   ],
   "outputs": [
    {
     "data": {
      "text/plain": [
       "<Figure size 1500x1000 with 9 Axes>"
      ],
      "image/png": "[encoded data removed]"
     },
     "metadata": {},
     "output_type": "display_data"
    }
   ],
   "execution_count": 18
  },
  {
   "cell_type": "raw",
   "id": "e24e4087-6d04-4ef3-9523-efba05d922c8",
   "metadata": {},
   "source": [
    "Неважно как считать бесселеву функцию, распределение после нормировки получаются совершенно одинаковыми. К удивлению, даже асимптотическая функция на малых N после нормировки даёт такие же результаты, как аналитическая. Поэтому разумнее дальше брать асимптотический вариант, он к тому же считается быстро и линейно от размера выборки. И да, для розыгрыша np.choice отвратительно работает "
   ]
  },
  {
   "cell_type": "code",
   "id": "5f3c0a02-013c-4624-b3d2-a1a931014d1d",
   "metadata": {
    "ExecuteTime": {
     "end_time": "2024-11-04T16:29:27.717477Z",
     "start_time": "2024-11-04T16:29:27.703126Z"
    }
   },
   "source": [
    "def test_methods(alpha,quantile_of_interest,sample_size,number_of_bootstrap_samples, control_sample, treatment_sample,real_diff):\n",
    "    print(\"Real difference: \", real_diff)\n",
    "    pe_control, statistics_control = PoissonBootstrap(control_sample, np.median, number_of_bootstrap_samples)\n",
    "    pe_treatment, statistics_treatment = PoissonBootstrap(treatment_sample, np.median, number_of_bootstrap_samples)\n",
    "    poisson_bootstrap_interval = np.quantile(statistics_control- statistics_treatment,[alpha/2 , 1-alpha/2])\n",
    "    diff_points_estimations  = pe_control-pe_treatment\n",
    "    print(\"Sample difference: \", diff_points_estimations)\n",
    "    print(f\"\"\"Poisson bootstrap,\n",
    "    the {(1-alpha)*100}% confidence interval is given by ({poisson_bootstrap_interval}).\"\"\")\n",
    "    control_sample_sorted = np.sort(control_sample)\n",
    "    treatment_sample_sorted = np.sort(treatment_sample)\n",
    "    \n",
    "    spotify_bootstrap_difference = control_sample_sorted[np.random.binomial(sample_size+1, quantile_of_interest,\n",
    "    number_of_bootstrap_samples)] - treatment_sample_sorted[np.random.binomial(sample_size+1,\n",
    "                            quantile_of_interest, number_of_bootstrap_samples)]\n",
    "    \n",
    "    spotify_confidence_interval = np.quantile(spotify_bootstrap_difference,\n",
    "    [alpha/2 , 1-alpha/2])\n",
    "    \n",
    "    print(f\"\"\"Spotify bootstrap,\n",
    "    the {(1-alpha)*100}% confidence interval is given by ({spotify_confidence_interval}).\"\"\")\n",
    "    \n",
    "    probabilities = BesselProbabilityApproximation(sample_size)\n",
    "    \n",
    "    probabilities = probabilities/sum(probabilities)\n",
    "    rng = np.random.default_rng(0)\n",
    "    dist_1 = DiscreteGuideTable(probabilities, random_state=rng)\n",
    "    dist_2 = DiscreteGuideTable(probabilities, random_state=rng)\n",
    "    dist_indexes_1 = dist_1.rvs(size=number_of_bootstrap_samples)\n",
    "    dist_indexes_2 = dist_2.rvs(size=number_of_bootstrap_samples)\n",
    "    miller_bootstrap_difference = control_sample_sorted[dist_indexes_1] -treatment_sample_sorted[dist_indexes_2]\n",
    "    miller_confidence_interval = np.quantile(miller_bootstrap_difference,\n",
    "    [alpha/2 , 1-alpha/2])\n",
    "    print(f\"\"\"Miller bootstrap,\n",
    "    the {(1-alpha)*100}% confidence interval is given by ({miller_confidence_interval}).\"\"\")\n",
    "    pe_bonnet,  low_b, up_b = PriceBonet(control_sample, treatment_sample, 0.5)\n",
    "    print(f\"\"\"Bonnet ,\n",
    "    the {(1-alpha)*100}% confidence interval is given by ({[low_b, up_b]}).\"\"\")"
   ],
   "outputs": [],
   "execution_count": 19
  },
  {
   "cell_type": "code",
   "id": "82fc4bbe-8f9b-499d-9b1d-a0f9dd2722b3",
   "metadata": {
    "ExecuteTime": {
     "end_time": "2024-11-04T16:29:29.751216Z",
     "start_time": "2024-11-04T16:29:27.759357Z"
    }
   },
   "source": [
    "control_sample = np.random.normal(1,1,sample_size)\n",
    "treatment_sample = np.random.normal(2,1,sample_size)\n",
    "test_methods(alpha,quantile_of_interest,sample_size,number_of_bootstrap_samples, control_sample, treatment_sample, -1)"
   ],
   "outputs": [
    {
     "name": "stdout",
     "output_type": "stream",
     "text": [
      "Real difference:  -1\n",
      "Sample difference:  -0.9895000493051644\n",
      "Poisson bootstrap,\n",
      "    the 95.0% confidence interval is given by ([-1.02421636 -0.95687755]).\n",
      "Spotify bootstrap,\n",
      "    the 95.0% confidence interval is given by ([-1.02419413 -0.95607467]).\n",
      "Miller bootstrap,\n",
      "    the 95.0% confidence interval is given by ([-1.02295835 -0.95550821]).\n",
      "Bonnet ,\n",
      "    the 95.0% confidence interval is given by ([-1.000993692207481, -0.978006406402848]).\n"
     ]
    }
   ],
   "execution_count": 20
  },
  {
   "cell_type": "code",
   "id": "376c4db8-72ce-40f1-ace1-444233e69f85",
   "metadata": {
    "ExecuteTime": {
     "end_time": "2024-11-04T16:29:31.803253Z",
     "start_time": "2024-11-04T16:29:29.783175Z"
    }
   },
   "source": [
    "control_sample = np.random.lognormal(2,1/2,sample_size)\n",
    "treatment_sample = np.random.lognormal(0,2,sample_size)\n",
    "real_diff = np.exp(2) - np.exp(0) \n",
    "test_methods(alpha,quantile_of_interest,sample_size,number_of_bootstrap_samples, control_sample, treatment_sample,real_diff)"
   ],
   "outputs": [
    {
     "name": "stdout",
     "output_type": "stream",
     "text": [
      "Real difference:  6.38905609893065\n",
      "Sample difference:  6.426940769187409\n",
      "Poisson bootstrap,\n",
      "    the 95.0% confidence interval is given by ([6.31630869 6.51499153]).\n",
      "Spotify bootstrap,\n",
      "    the 95.0% confidence interval is given by ([6.31768475 6.52365654]).\n",
      "Miller bootstrap,\n",
      "    the 95.0% confidence interval is given by ([6.32024251 6.52119129]).\n",
      "Bonnet ,\n",
      "    the 95.0% confidence interval is given by ([6.391662560741182, 6.462218977633636]).\n"
     ]
    }
   ],
   "execution_count": 21
  },
  {
   "cell_type": "code",
   "id": "97c4ed13-ce48-44c4-923b-cf6017f82e63",
   "metadata": {
    "ExecuteTime": {
     "end_time": "2024-11-04T16:29:33.590654Z",
     "start_time": "2024-11-04T16:29:31.837434Z"
    }
   },
   "source": [
    "control_sample = np.random.exponential(1/2,sample_size)\n",
    "treatment_sample = np.random.exponential(2,sample_size)\n",
    "real_diff = np.log(2)*(1/2 - 2)\n",
    "test_methods(alpha,quantile_of_interest,sample_size,number_of_bootstrap_samples, control_sample, treatment_sample,real_diff)"
   ],
   "outputs": [
    {
     "name": "stdout",
     "output_type": "stream",
     "text": [
      "Real difference:  -1.0397207708399179\n",
      "Sample difference:  -1.0366843150227925\n",
      "Poisson bootstrap,\n",
      "    the 95.0% confidence interval is given by ([-1.07713293 -0.99056524]).\n",
      "Spotify bootstrap,\n",
      "    the 95.0% confidence interval is given by ([-1.07662146 -0.99321631]).\n",
      "Miller bootstrap,\n",
      "    the 95.0% confidence interval is given by ([-1.07714374 -0.98959772]).\n",
      "Bonnet ,\n",
      "    the 95.0% confidence interval is given by ([-1.0510427206460027, -1.0223259093995822]).\n"
     ]
    }
   ],
   "execution_count": 22
  },
  {
   "cell_type": "raw",
   "id": "8eb8560c-fab7-4f26-9266-17b39acb6a06",
   "metadata": {},
   "source": [
    "Пуассоновский бутстрап, спотифай и миллер дают схожие результаты. У Миллера интервалы будут чуть уже,  разница там начиная со в второго-третьего порядке. Точное решение для Миллера всё равно обрубается первым членом, поэтому хвосты не сильне легче, чем у биномиального. Хотя если считать асимптотической формулой, то ввиду одинаковой сложности по времени со спотифаевским вариантом, можно и побороться за менее консервативные интервалы. У Боннета во всех тестах самые  строгие оценки. "
   ]
  }
 ],
 "metadata": {
  "kernelspec": {
   "display_name": "Python 3 (ipykernel)",
   "language": "python",
   "name": "python3"
  },
  "language_info": {
   "codemirror_mode": {
    "name": "ipython",
    "version": 3
   },
   "file_extension": ".py",
   "mimetype": "text/x-python",
   "name": "python",
   "nbconvert_exporter": "python",
   "pygments_lexer": "ipython3",
   "version": "3.11.5"
  }
 },
 "nbformat": 4,
 "nbformat_minor": 5
}
