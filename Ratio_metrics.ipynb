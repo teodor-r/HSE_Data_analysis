{
 "cells": [
  {
   "cell_type": "markdown",
   "id": "92be8570",
   "metadata": {},
   "source": [
    "# ДЗ-2 по Теории и практике онлайн экспериментов\n"
   ]
  },
  {
   "cell_type": "markdown",
   "id": "c8f81b9e",
   "metadata": {},
   "source": [
    "Данные лежат на диске: https://disk.yandex.ru/d/9EcCqk-1CUyiCA"
   ]
  },
  {
   "cell_type": "markdown",
   "id": "2f15c6a1",
   "metadata": {},
   "source": [
    "### Задание 1 (4 балла)\n",
    "\n",
    "Представим, что у нас есть сервис для продажи некоторых товаров (например, мыла). Мы выкатываем новые фичи и проводим тесты, а затем сохраняем логи каждого теста в следующем формате:\n",
    "\n",
    "- `user_id` - уникальный id посетителя сайта\n",
    "- `dt` - дата события\n",
    "- `event` - название события\n",
    "- `group` - группа, в которую попал пользователь (распределение может происходить на разных этапах воронки для разных тестов - например, при первом посещении или при первом добавлении в корзину)\n",
    "- `visit_id` - уникальный id визита\n",
    "- `cart_id` - уникальный id корзины\n",
    "- amount - текущая сумма корзины\n",
    "- `num_receipt` - текущее количество товаров в корзине\n"
   ]
  },
  {
   "cell_type": "markdown",
   "id": "e846e98b",
   "metadata": {},
   "source": [
    "1. Обратимся к метрике **average revenue per paying user**. Вам даны две очень похожие группы (файл `aa_test_logs.pkl`). \n",
    "\n",
    "- Постройте распределение p-value для теста на равенство средних между группами.\n",
    "- Найдите, на каком уровне искусственно добавленного эффекта средняя выручка в группах станет различима. Ошибку первого рода считайте заданной и равной 0.05, ошибку 2-го рода равной 0.2."
   ]
  },
  {
   "metadata": {
    "ExecuteTime": {
     "end_time": "2025-03-21T21:52:42.295902Z",
     "start_time": "2025-03-21T21:52:42.291778Z"
    }
   },
   "cell_type": "code",
   "source": [
    "import os\n",
    "import numpy as np\n",
    "from scipy.interpolate import interp1d\n",
    "import matplotlib.pyplot as plt\n",
    "from scipy.stats import mannwhitneyu, ttest_ind, t\n",
    "from scipy.stats import kstest, uniform\n",
    "import numpy as np\n",
    "import seaborn as sns\n",
    "from scipy import stats\n",
    "import sys\n",
    "import statsmodels.stats.power as smp\n",
    "from tqdm import tqdm\n",
    "import pandas as pd\n",
    "import math\n",
    "from scipy.stats import pearsonr, spearmanr, kendalltau"
   ],
   "id": "a0b7fedb3808131e",
   "outputs": [],
   "execution_count": 587
  },
  {
   "metadata": {
    "ExecuteTime": {
     "end_time": "2025-03-21T21:52:42.380566Z",
     "start_time": "2025-03-21T21:52:42.377566Z"
    }
   },
   "cell_type": "code",
   "source": "data_path = os.path.abspath(r\"C:\\Users\\kuzin\\PycharmProjects\\MLearning\\AB\\hw-3\")",
   "id": "ab028cf208452afd",
   "outputs": [],
   "execution_count": 588
  },
  {
   "metadata": {
    "ExecuteTime": {
     "end_time": "2025-03-21T21:52:42.435391Z",
     "start_time": "2025-03-21T21:52:42.431257Z"
    }
   },
   "cell_type": "code",
   "source": [
    "sys.modules['numpy._core.numeric'] = np.core.numeric\n",
    "import pickle"
   ],
   "id": "cc573cf214108c7a",
   "outputs": [
    {
     "name": "stderr",
     "output_type": "stream",
     "text": [
      "C:\\Users\\kuzin\\AppData\\Local\\Temp\\ipykernel_3928\\1156640641.py:1: DeprecationWarning: numpy.core is deprecated and has been renamed to numpy._core. The numpy._core namespace contains private NumPy internals and its use is discouraged, as NumPy internals can change without warning in any release. In practice, most real-world usage of numpy.core is to access functionality in the public NumPy API. If that is the case, use the public NumPy API. If not, you are using NumPy internals. If you would still like to access an internal attribute, use numpy._core.numeric.\n",
      "  sys.modules['numpy._core.numeric'] = np.core.numeric\n"
     ]
    }
   ],
   "execution_count": 589
  },
  {
   "metadata": {
    "ExecuteTime": {
     "end_time": "2025-03-21T21:52:42.492210Z",
     "start_time": "2025-03-21T21:52:42.472136Z"
    }
   },
   "cell_type": "code",
   "source": [
    "target = \"aa_test_logs.pkl\"\n",
    "path = os.path.join(data_path, target)\n",
    "with open( os.path.join(data_path,target), 'rb') as f:\n",
    "    df = pickle.load(f)"
   ],
   "id": "247c3081ba5caf57",
   "outputs": [],
   "execution_count": 590
  },
  {
   "metadata": {
    "ExecuteTime": {
     "end_time": "2025-03-21T21:52:42.532411Z",
     "start_time": "2025-03-21T21:52:42.528994Z"
    }
   },
   "cell_type": "code",
   "source": "#На всякий случай отсортируем таблицу, чтобы корректно заполнить поле  event c card-paid",
   "id": "cb21a06b1d2ff29b",
   "outputs": [],
   "execution_count": 591
  },
  {
   "metadata": {
    "ExecuteTime": {
     "end_time": "2025-03-21T21:52:42.583622Z",
     "start_time": "2025-03-21T21:52:42.571279Z"
    }
   },
   "cell_type": "code",
   "source": "sorted_df = df.sort_values(['user_id', 'dt', \"event\"], ascending=[True, True, True])",
   "id": "e2737001ce36a6c7",
   "outputs": [],
   "execution_count": 592
  },
  {
   "metadata": {
    "ExecuteTime": {
     "end_time": "2025-03-21T21:52:42.629176Z",
     "start_time": "2025-03-21T21:52:42.621160Z"
    }
   },
   "cell_type": "code",
   "source": "sorted_df.head(10)",
   "id": "fab792760ae6dbb4",
   "outputs": [
    {
     "data": {
      "text/plain": [
       "  user_id                  dt      event    group visit_id cart_id  amount  \\\n",
       "0  user_0 2025-03-06 00:00:00   cart-add     test  visit_1  cart_0   43.22   \n",
       "1  user_0 2025-03-06 00:01:00   cart-add     test  visit_1  cart_0   97.84   \n",
       "2  user_0 2025-03-06 00:02:00   cart-add     test  visit_1  cart_0  146.27   \n",
       "3  user_0 2025-03-06 00:10:00  cart-paid     test  visit_1  cart_0     NaN   \n",
       "4  user_1 2025-03-11 00:00:00   cart-add  control  visit_2  cart_1   26.08   \n",
       "5  user_1 2025-03-11 00:01:00   cart-add  control  visit_2  cart_1   34.05   \n",
       "6  user_1 2025-03-11 00:04:00   cart-add  control  visit_2  cart_1   52.20   \n",
       "7  user_1 2025-03-11 00:08:00   cart-add  control  visit_2  cart_1   69.51   \n",
       "8  user_1 2025-03-11 00:09:00   cart-add  control  visit_2  cart_1   93.19   \n",
       "9  user_1 2025-03-11 00:12:00   cart-add  control  visit_2  cart_1  103.95   \n",
       "\n",
       "   num_items  \n",
       "0        1.0  \n",
       "1        2.0  \n",
       "2        7.0  \n",
       "3        NaN  \n",
       "4        3.0  \n",
       "5        8.0  \n",
       "6       17.0  \n",
       "7       22.0  \n",
       "8       24.0  \n",
       "9       30.0  "
      ],
      "text/html": [
       "<div>\n",
       "<style scoped>\n",
       "    .dataframe tbody tr th:only-of-type {\n",
       "        vertical-align: middle;\n",
       "    }\n",
       "\n",
       "    .dataframe tbody tr th {\n",
       "        vertical-align: top;\n",
       "    }\n",
       "\n",
       "    .dataframe thead th {\n",
       "        text-align: right;\n",
       "    }\n",
       "</style>\n",
       "<table border=\"1\" class=\"dataframe\">\n",
       "  <thead>\n",
       "    <tr style=\"text-align: right;\">\n",
       "      <th></th>\n",
       "      <th>user_id</th>\n",
       "      <th>dt</th>\n",
       "      <th>event</th>\n",
       "      <th>group</th>\n",
       "      <th>visit_id</th>\n",
       "      <th>cart_id</th>\n",
       "      <th>amount</th>\n",
       "      <th>num_items</th>\n",
       "    </tr>\n",
       "  </thead>\n",
       "  <tbody>\n",
       "    <tr>\n",
       "      <th>0</th>\n",
       "      <td>user_0</td>\n",
       "      <td>2025-03-06 00:00:00</td>\n",
       "      <td>cart-add</td>\n",
       "      <td>test</td>\n",
       "      <td>visit_1</td>\n",
       "      <td>cart_0</td>\n",
       "      <td>43.22</td>\n",
       "      <td>1.0</td>\n",
       "    </tr>\n",
       "    <tr>\n",
       "      <th>1</th>\n",
       "      <td>user_0</td>\n",
       "      <td>2025-03-06 00:01:00</td>\n",
       "      <td>cart-add</td>\n",
       "      <td>test</td>\n",
       "      <td>visit_1</td>\n",
       "      <td>cart_0</td>\n",
       "      <td>97.84</td>\n",
       "      <td>2.0</td>\n",
       "    </tr>\n",
       "    <tr>\n",
       "      <th>2</th>\n",
       "      <td>user_0</td>\n",
       "      <td>2025-03-06 00:02:00</td>\n",
       "      <td>cart-add</td>\n",
       "      <td>test</td>\n",
       "      <td>visit_1</td>\n",
       "      <td>cart_0</td>\n",
       "      <td>146.27</td>\n",
       "      <td>7.0</td>\n",
       "    </tr>\n",
       "    <tr>\n",
       "      <th>3</th>\n",
       "      <td>user_0</td>\n",
       "      <td>2025-03-06 00:10:00</td>\n",
       "      <td>cart-paid</td>\n",
       "      <td>test</td>\n",
       "      <td>visit_1</td>\n",
       "      <td>cart_0</td>\n",
       "      <td>NaN</td>\n",
       "      <td>NaN</td>\n",
       "    </tr>\n",
       "    <tr>\n",
       "      <th>4</th>\n",
       "      <td>user_1</td>\n",
       "      <td>2025-03-11 00:00:00</td>\n",
       "      <td>cart-add</td>\n",
       "      <td>control</td>\n",
       "      <td>visit_2</td>\n",
       "      <td>cart_1</td>\n",
       "      <td>26.08</td>\n",
       "      <td>3.0</td>\n",
       "    </tr>\n",
       "    <tr>\n",
       "      <th>5</th>\n",
       "      <td>user_1</td>\n",
       "      <td>2025-03-11 00:01:00</td>\n",
       "      <td>cart-add</td>\n",
       "      <td>control</td>\n",
       "      <td>visit_2</td>\n",
       "      <td>cart_1</td>\n",
       "      <td>34.05</td>\n",
       "      <td>8.0</td>\n",
       "    </tr>\n",
       "    <tr>\n",
       "      <th>6</th>\n",
       "      <td>user_1</td>\n",
       "      <td>2025-03-11 00:04:00</td>\n",
       "      <td>cart-add</td>\n",
       "      <td>control</td>\n",
       "      <td>visit_2</td>\n",
       "      <td>cart_1</td>\n",
       "      <td>52.20</td>\n",
       "      <td>17.0</td>\n",
       "    </tr>\n",
       "    <tr>\n",
       "      <th>7</th>\n",
       "      <td>user_1</td>\n",
       "      <td>2025-03-11 00:08:00</td>\n",
       "      <td>cart-add</td>\n",
       "      <td>control</td>\n",
       "      <td>visit_2</td>\n",
       "      <td>cart_1</td>\n",
       "      <td>69.51</td>\n",
       "      <td>22.0</td>\n",
       "    </tr>\n",
       "    <tr>\n",
       "      <th>8</th>\n",
       "      <td>user_1</td>\n",
       "      <td>2025-03-11 00:09:00</td>\n",
       "      <td>cart-add</td>\n",
       "      <td>control</td>\n",
       "      <td>visit_2</td>\n",
       "      <td>cart_1</td>\n",
       "      <td>93.19</td>\n",
       "      <td>24.0</td>\n",
       "    </tr>\n",
       "    <tr>\n",
       "      <th>9</th>\n",
       "      <td>user_1</td>\n",
       "      <td>2025-03-11 00:12:00</td>\n",
       "      <td>cart-add</td>\n",
       "      <td>control</td>\n",
       "      <td>visit_2</td>\n",
       "      <td>cart_1</td>\n",
       "      <td>103.95</td>\n",
       "      <td>30.0</td>\n",
       "    </tr>\n",
       "  </tbody>\n",
       "</table>\n",
       "</div>"
      ]
     },
     "execution_count": 593,
     "metadata": {},
     "output_type": "execute_result"
    }
   ],
   "execution_count": 593
  },
  {
   "metadata": {
    "ExecuteTime": {
     "end_time": "2025-03-21T21:52:42.698437Z",
     "start_time": "2025-03-21T21:52:42.689834Z"
    }
   },
   "cell_type": "code",
   "source": [
    "mask = sorted_df[\"amount\"].isna()\n",
    "prev_val_mask = mask.shift(periods=-1, fill_value=False)\n",
    "sorted_df.loc[mask,[\"amount\"]] = sorted_df[prev_val_mask][\"amount\"].values\n",
    "sorted_df.loc[mask,[\"num_items\"]] = sorted_df[prev_val_mask][\"num_items\"].values"
   ],
   "id": "e2cf8a4467de7fd",
   "outputs": [],
   "execution_count": 594
  },
  {
   "metadata": {
    "ExecuteTime": {
     "end_time": "2025-03-21T21:52:42.758252Z",
     "start_time": "2025-03-21T21:52:42.748629Z"
    }
   },
   "cell_type": "code",
   "source": "sorted_df.head(15)",
   "id": "43d4cc313c4a7180",
   "outputs": [
    {
     "data": {
      "text/plain": [
       "    user_id                  dt      event    group  visit_id  cart_id  \\\n",
       "0    user_0 2025-03-06 00:00:00   cart-add     test   visit_1   cart_0   \n",
       "1    user_0 2025-03-06 00:01:00   cart-add     test   visit_1   cart_0   \n",
       "2    user_0 2025-03-06 00:02:00   cart-add     test   visit_1   cart_0   \n",
       "3    user_0 2025-03-06 00:10:00  cart-paid     test   visit_1   cart_0   \n",
       "4    user_1 2025-03-11 00:00:00   cart-add  control   visit_2   cart_1   \n",
       "5    user_1 2025-03-11 00:01:00   cart-add  control   visit_2   cart_1   \n",
       "6    user_1 2025-03-11 00:04:00   cart-add  control   visit_2   cart_1   \n",
       "7    user_1 2025-03-11 00:08:00   cart-add  control   visit_2   cart_1   \n",
       "8    user_1 2025-03-11 00:09:00   cart-add  control   visit_2   cart_1   \n",
       "9    user_1 2025-03-11 00:12:00   cart-add  control   visit_2   cart_1   \n",
       "10   user_1 2025-03-11 00:17:00  cart-paid  control   visit_2   cart_1   \n",
       "11  user_10 2025-03-14 00:00:00   cart-add     test  visit_18  cart_16   \n",
       "12  user_10 2025-03-14 00:04:00   cart-add     test  visit_18  cart_16   \n",
       "13  user_10 2025-03-14 00:07:00   cart-add     test  visit_18  cart_16   \n",
       "14  user_10 2025-03-14 00:11:00   cart-add     test  visit_18  cart_16   \n",
       "\n",
       "    amount  num_items  \n",
       "0    43.22        1.0  \n",
       "1    97.84        2.0  \n",
       "2   146.27        7.0  \n",
       "3   146.27        7.0  \n",
       "4    26.08        3.0  \n",
       "5    34.05        8.0  \n",
       "6    52.20       17.0  \n",
       "7    69.51       22.0  \n",
       "8    93.19       24.0  \n",
       "9   103.95       30.0  \n",
       "10  103.95       30.0  \n",
       "11   47.51        6.0  \n",
       "12   79.15       13.0  \n",
       "13  114.11       15.0  \n",
       "14  139.34       18.0  "
      ],
      "text/html": [
       "<div>\n",
       "<style scoped>\n",
       "    .dataframe tbody tr th:only-of-type {\n",
       "        vertical-align: middle;\n",
       "    }\n",
       "\n",
       "    .dataframe tbody tr th {\n",
       "        vertical-align: top;\n",
       "    }\n",
       "\n",
       "    .dataframe thead th {\n",
       "        text-align: right;\n",
       "    }\n",
       "</style>\n",
       "<table border=\"1\" class=\"dataframe\">\n",
       "  <thead>\n",
       "    <tr style=\"text-align: right;\">\n",
       "      <th></th>\n",
       "      <th>user_id</th>\n",
       "      <th>dt</th>\n",
       "      <th>event</th>\n",
       "      <th>group</th>\n",
       "      <th>visit_id</th>\n",
       "      <th>cart_id</th>\n",
       "      <th>amount</th>\n",
       "      <th>num_items</th>\n",
       "    </tr>\n",
       "  </thead>\n",
       "  <tbody>\n",
       "    <tr>\n",
       "      <th>0</th>\n",
       "      <td>user_0</td>\n",
       "      <td>2025-03-06 00:00:00</td>\n",
       "      <td>cart-add</td>\n",
       "      <td>test</td>\n",
       "      <td>visit_1</td>\n",
       "      <td>cart_0</td>\n",
       "      <td>43.22</td>\n",
       "      <td>1.0</td>\n",
       "    </tr>\n",
       "    <tr>\n",
       "      <th>1</th>\n",
       "      <td>user_0</td>\n",
       "      <td>2025-03-06 00:01:00</td>\n",
       "      <td>cart-add</td>\n",
       "      <td>test</td>\n",
       "      <td>visit_1</td>\n",
       "      <td>cart_0</td>\n",
       "      <td>97.84</td>\n",
       "      <td>2.0</td>\n",
       "    </tr>\n",
       "    <tr>\n",
       "      <th>2</th>\n",
       "      <td>user_0</td>\n",
       "      <td>2025-03-06 00:02:00</td>\n",
       "      <td>cart-add</td>\n",
       "      <td>test</td>\n",
       "      <td>visit_1</td>\n",
       "      <td>cart_0</td>\n",
       "      <td>146.27</td>\n",
       "      <td>7.0</td>\n",
       "    </tr>\n",
       "    <tr>\n",
       "      <th>3</th>\n",
       "      <td>user_0</td>\n",
       "      <td>2025-03-06 00:10:00</td>\n",
       "      <td>cart-paid</td>\n",
       "      <td>test</td>\n",
       "      <td>visit_1</td>\n",
       "      <td>cart_0</td>\n",
       "      <td>146.27</td>\n",
       "      <td>7.0</td>\n",
       "    </tr>\n",
       "    <tr>\n",
       "      <th>4</th>\n",
       "      <td>user_1</td>\n",
       "      <td>2025-03-11 00:00:00</td>\n",
       "      <td>cart-add</td>\n",
       "      <td>control</td>\n",
       "      <td>visit_2</td>\n",
       "      <td>cart_1</td>\n",
       "      <td>26.08</td>\n",
       "      <td>3.0</td>\n",
       "    </tr>\n",
       "    <tr>\n",
       "      <th>5</th>\n",
       "      <td>user_1</td>\n",
       "      <td>2025-03-11 00:01:00</td>\n",
       "      <td>cart-add</td>\n",
       "      <td>control</td>\n",
       "      <td>visit_2</td>\n",
       "      <td>cart_1</td>\n",
       "      <td>34.05</td>\n",
       "      <td>8.0</td>\n",
       "    </tr>\n",
       "    <tr>\n",
       "      <th>6</th>\n",
       "      <td>user_1</td>\n",
       "      <td>2025-03-11 00:04:00</td>\n",
       "      <td>cart-add</td>\n",
       "      <td>control</td>\n",
       "      <td>visit_2</td>\n",
       "      <td>cart_1</td>\n",
       "      <td>52.20</td>\n",
       "      <td>17.0</td>\n",
       "    </tr>\n",
       "    <tr>\n",
       "      <th>7</th>\n",
       "      <td>user_1</td>\n",
       "      <td>2025-03-11 00:08:00</td>\n",
       "      <td>cart-add</td>\n",
       "      <td>control</td>\n",
       "      <td>visit_2</td>\n",
       "      <td>cart_1</td>\n",
       "      <td>69.51</td>\n",
       "      <td>22.0</td>\n",
       "    </tr>\n",
       "    <tr>\n",
       "      <th>8</th>\n",
       "      <td>user_1</td>\n",
       "      <td>2025-03-11 00:09:00</td>\n",
       "      <td>cart-add</td>\n",
       "      <td>control</td>\n",
       "      <td>visit_2</td>\n",
       "      <td>cart_1</td>\n",
       "      <td>93.19</td>\n",
       "      <td>24.0</td>\n",
       "    </tr>\n",
       "    <tr>\n",
       "      <th>9</th>\n",
       "      <td>user_1</td>\n",
       "      <td>2025-03-11 00:12:00</td>\n",
       "      <td>cart-add</td>\n",
       "      <td>control</td>\n",
       "      <td>visit_2</td>\n",
       "      <td>cart_1</td>\n",
       "      <td>103.95</td>\n",
       "      <td>30.0</td>\n",
       "    </tr>\n",
       "    <tr>\n",
       "      <th>10</th>\n",
       "      <td>user_1</td>\n",
       "      <td>2025-03-11 00:17:00</td>\n",
       "      <td>cart-paid</td>\n",
       "      <td>control</td>\n",
       "      <td>visit_2</td>\n",
       "      <td>cart_1</td>\n",
       "      <td>103.95</td>\n",
       "      <td>30.0</td>\n",
       "    </tr>\n",
       "    <tr>\n",
       "      <th>11</th>\n",
       "      <td>user_10</td>\n",
       "      <td>2025-03-14 00:00:00</td>\n",
       "      <td>cart-add</td>\n",
       "      <td>test</td>\n",
       "      <td>visit_18</td>\n",
       "      <td>cart_16</td>\n",
       "      <td>47.51</td>\n",
       "      <td>6.0</td>\n",
       "    </tr>\n",
       "    <tr>\n",
       "      <th>12</th>\n",
       "      <td>user_10</td>\n",
       "      <td>2025-03-14 00:04:00</td>\n",
       "      <td>cart-add</td>\n",
       "      <td>test</td>\n",
       "      <td>visit_18</td>\n",
       "      <td>cart_16</td>\n",
       "      <td>79.15</td>\n",
       "      <td>13.0</td>\n",
       "    </tr>\n",
       "    <tr>\n",
       "      <th>13</th>\n",
       "      <td>user_10</td>\n",
       "      <td>2025-03-14 00:07:00</td>\n",
       "      <td>cart-add</td>\n",
       "      <td>test</td>\n",
       "      <td>visit_18</td>\n",
       "      <td>cart_16</td>\n",
       "      <td>114.11</td>\n",
       "      <td>15.0</td>\n",
       "    </tr>\n",
       "    <tr>\n",
       "      <th>14</th>\n",
       "      <td>user_10</td>\n",
       "      <td>2025-03-14 00:11:00</td>\n",
       "      <td>cart-add</td>\n",
       "      <td>test</td>\n",
       "      <td>visit_18</td>\n",
       "      <td>cart_16</td>\n",
       "      <td>139.34</td>\n",
       "      <td>18.0</td>\n",
       "    </tr>\n",
       "  </tbody>\n",
       "</table>\n",
       "</div>"
      ]
     },
     "execution_count": 595,
     "metadata": {},
     "output_type": "execute_result"
    }
   ],
   "execution_count": 595
  },
  {
   "metadata": {
    "ExecuteTime": {
     "end_time": "2025-03-21T21:52:42.934288Z",
     "start_time": "2025-03-21T21:52:42.926288Z"
    }
   },
   "cell_type": "code",
   "source": [
    "pay_users = sorted_df[sorted_df['event'] == \"cart-paid\"]\n",
    "t_df = pay_users[pay_users[\"group\"] == \"test\"]\n",
    "c_df = pay_users[pay_users[\"group\"] == \"control\"]"
   ],
   "id": "b13f0695a5aa4f0",
   "outputs": [],
   "execution_count": 596
  },
  {
   "metadata": {
    "ExecuteTime": {
     "end_time": "2025-03-21T21:52:43.030597Z",
     "start_time": "2025-03-21T21:52:43.026590Z"
    }
   },
   "cell_type": "code",
   "source": [
    "def get_revenue_per_user(df):\n",
    "    res = df.groupby(\"user_id\")[\"amount\"].sum()\n",
    "    return res"
   ],
   "id": "4b77f019c9e1c38e",
   "outputs": [],
   "execution_count": 597
  },
  {
   "metadata": {
    "ExecuteTime": {
     "end_time": "2025-03-21T21:52:43.159866Z",
     "start_time": "2025-03-21T21:52:43.153860Z"
    }
   },
   "cell_type": "code",
   "source": [
    "treat = get_revenue_per_user(t_df).values\n",
    "control = get_revenue_per_user(c_df).values"
   ],
   "id": "e8c971e4d0fa2bbb",
   "outputs": [],
   "execution_count": 598
  },
  {
   "metadata": {
    "ExecuteTime": {
     "end_time": "2025-03-21T21:52:43.241357Z",
     "start_time": "2025-03-21T21:52:43.237472Z"
    }
   },
   "cell_type": "code",
   "source": "treat.shape, control.shape",
   "id": "57138ccc7959bfb9",
   "outputs": [
    {
     "data": {
      "text/plain": [
       "((1936,), (1939,))"
      ]
     },
     "execution_count": 599,
     "metadata": {},
     "output_type": "execute_result"
    }
   ],
   "execution_count": 599
  },
  {
   "metadata": {
    "ExecuteTime": {
     "end_time": "2025-03-21T21:52:43.284082Z",
     "start_time": "2025-03-21T21:52:43.279637Z"
    }
   },
   "cell_type": "code",
   "source": [
    "def AA_test(c,t,iter=1000):\n",
    "    result = []\n",
    "    for i in range(iter):\n",
    "        c_boot = np.random.choice(c, len(c), True) # сгенерируем n примеров\n",
    "        t_boot = np.random.choice(t, len(t), True) # сгенерируем n примеров\n",
    "        result.append(stats.ttest_ind(c_boot, t_boot, equal_var = False)[1]) # сохраняем pvalue\n",
    "    plt.hist(result, bins = 50)\n",
    "    plt.style.use('ggplot')\n",
    "    plt.xlabel('pvalues')\n",
    "    plt.ylabel('frequency')\n",
    "    plt.title(\"Histogram of ttest A/A simulations \")\n",
    "    plt.show()\n",
    "    result = np.array(result)\n",
    "    _, p_value = kstest(result, uniform.cdf)\n",
    "\n",
    "    if p_value > 0.05:\n",
    "        print(\"Uniform\")  # Sample distribution is likely uniform\n",
    "    else:\n",
    "        print(\"Not Uniform\")  # Sample distribution is not likely uniform\n",
    "    print(f\"FPR {sum(np.array(result) < 0.05) / iter}\")\n",
    "    print(f\"Control mean {c.mean():.2f}, treat mean {t.mean():.2f}\")\n",
    "    "
   ],
   "id": "794fde24e61ac764",
   "outputs": [],
   "execution_count": 600
  },
  {
   "metadata": {
    "ExecuteTime": {
     "end_time": "2025-03-21T21:52:44.985058Z",
     "start_time": "2025-03-21T21:52:43.345450Z"
    }
   },
   "cell_type": "code",
   "source": "AA_test(control,treat)",
   "id": "41c6bf927b028181",
   "outputs": [
    {
     "data": {
      "text/plain": [
       "<Figure size 640x480 with 1 Axes>"
      ],
      "image/png": "[encoded data removed]"
     },
     "metadata": {},
     "output_type": "display_data"
    },
    {
     "name": "stdout",
     "output_type": "stream",
     "text": [
      "Uniform\n",
      "FPR 0.048\n",
      "Control mean 148.16, treat mean 148.62\n"
     ]
    }
   ],
   "execution_count": 601
  },
  {
   "metadata": {
    "ExecuteTime": {
     "end_time": "2025-03-21T21:52:45.100624Z",
     "start_time": "2025-03-21T21:52:45.095309Z"
    }
   },
   "cell_type": "code",
   "source": [
    "def MDE_find(c,t, n_iter= 1000):\n",
    "    mean = (c.mean() +  t.mean())/2 \n",
    "    effects = np.linspace(mean*0.01,mean*0.1, num =  10 )\n",
    "    effects_stats = []\n",
    "    for effect in tqdm(effects):\n",
    "        res  = []\n",
    "        t_noise = t + np.random.normal(effect, 1, t.shape)\n",
    "        for i in range(n_iter):\n",
    "            c_boot = np.random.choice(c, len(c), True)\n",
    "            t_boot = np.random.choice(t_noise, len(t_noise), True) \n",
    "            res.append(stats.ttest_ind(c_boot, t_boot, equal_var = False)[1])\n",
    "        power = sum(np.array(res) < 0.05) / n_iter\n",
    "        effects_stats.append(power)\n",
    "    return effects, np.array(effects_stats)"
   ],
   "id": "9e160798c9655abb",
   "outputs": [],
   "execution_count": 602
  },
  {
   "metadata": {
    "ExecuteTime": {
     "end_time": "2025-03-21T21:52:58.586995Z",
     "start_time": "2025-03-21T21:52:45.120630Z"
    }
   },
   "cell_type": "code",
   "source": "effect, effect_stats = MDE_find(control,treat,1000)",
   "id": "7a261e427a95be6d",
   "outputs": [
    {
     "name": "stderr",
     "output_type": "stream",
     "text": [
      "100%|██████████| 10/10 [00:13<00:00,  1.35s/it]\n"
     ]
    }
   ],
   "execution_count": 603
  },
  {
   "metadata": {
    "ExecuteTime": {
     "end_time": "2025-03-21T21:52:58.695359Z",
     "start_time": "2025-03-21T21:52:58.622009Z"
    }
   },
   "cell_type": "code",
   "source": [
    "f = interp1d(effect_stats, effect, kind='linear')\n",
    "\n",
    "# Находим значение x, соответствующее y = 0.8\n",
    "x_value = f(0.8)\n",
    "print(f\"Значение uplift to mean, соответствующее power = 0.8: {x_value}\")\n",
    "\n",
    "# Визуализация\n",
    "plt.plot(effect, effect_stats, 'o-', label='Данные')\n",
    "plt.axhline(y=0.8, color='r', linestyle='--', label='power = 0.8')\n",
    "plt.axvline(x=x_value, color='g', linestyle='--', label=f'uplift to mean = {x_value:.2f}')\n",
    "plt.xlabel('uplift to mean')\n",
    "plt.ylabel('power')\n",
    "plt.legend()\n",
    "plt.show()\n"
   ],
   "id": "a7c765740157371d",
   "outputs": [
    {
     "name": "stdout",
     "output_type": "stream",
     "text": [
      "Значение uplift to mean, соответствующее power = 0.8: 12.56462396696356\n"
     ]
    },
    {
     "data": {
      "text/plain": [
       "<Figure size 640x480 with 1 Axes>"
      ],
      "image/png": "[encoded data removed]"
     },
     "metadata": {},
     "output_type": "display_data"
    }
   ],
   "execution_count": 604
  },
  {
   "cell_type": "markdown",
   "id": "47ead6c6",
   "metadata": {},
   "source": [
    "2. На данных `aa_test_logs.pkl` сравните мощность линеаризации, бутстрапа, бакетизации и дельта-метода для метрики **среднего чека**. Какой метод получился наиболее мощным? Как вы думаете, почему?"
   ]
  },
  {
   "metadata": {
    "ExecuteTime": {
     "end_time": "2025-03-21T21:52:58.856890Z",
     "start_time": "2025-03-21T21:52:58.853515Z"
    }
   },
   "cell_type": "code",
   "source": [
    "def get_data_for_average_receipt(df):\n",
    "    res = df.groupby(\"user_id\")[\"amount\"].agg(\n",
    "        amount=\"sum\",\n",
    "        num = \"count\"\n",
    "    ).reset_index(drop=True)\n",
    "    return res"
   ],
   "id": "55814816b7ab3569",
   "outputs": [],
   "execution_count": 605
  },
  {
   "metadata": {
    "ExecuteTime": {
     "end_time": "2025-03-21T21:52:58.921855Z",
     "start_time": "2025-03-21T21:52:58.914847Z"
    }
   },
   "cell_type": "code",
   "source": [
    "treat = get_data_for_average_receipt(t_df)\n",
    "control = get_data_for_average_receipt(c_df)"
   ],
   "id": "508b17d2ec26ee5d",
   "outputs": [],
   "execution_count": 606
  },
  {
   "metadata": {
    "ExecuteTime": {
     "end_time": "2025-03-21T21:52:58.965264Z",
     "start_time": "2025-03-21T21:52:58.958718Z"
    }
   },
   "cell_type": "code",
   "source": "treat.head(5)",
   "id": "64a5257653598919",
   "outputs": [
    {
     "data": {
      "text/plain": [
       "   amount  num\n",
       "0  146.27    1\n",
       "1  238.89    1\n",
       "2  146.09    2\n",
       "3   53.21    1\n",
       "4  166.85    2"
      ],
      "text/html": [
       "<div>\n",
       "<style scoped>\n",
       "    .dataframe tbody tr th:only-of-type {\n",
       "        vertical-align: middle;\n",
       "    }\n",
       "\n",
       "    .dataframe tbody tr th {\n",
       "        vertical-align: top;\n",
       "    }\n",
       "\n",
       "    .dataframe thead th {\n",
       "        text-align: right;\n",
       "    }\n",
       "</style>\n",
       "<table border=\"1\" class=\"dataframe\">\n",
       "  <thead>\n",
       "    <tr style=\"text-align: right;\">\n",
       "      <th></th>\n",
       "      <th>amount</th>\n",
       "      <th>num</th>\n",
       "    </tr>\n",
       "  </thead>\n",
       "  <tbody>\n",
       "    <tr>\n",
       "      <th>0</th>\n",
       "      <td>146.27</td>\n",
       "      <td>1</td>\n",
       "    </tr>\n",
       "    <tr>\n",
       "      <th>1</th>\n",
       "      <td>238.89</td>\n",
       "      <td>1</td>\n",
       "    </tr>\n",
       "    <tr>\n",
       "      <th>2</th>\n",
       "      <td>146.09</td>\n",
       "      <td>2</td>\n",
       "    </tr>\n",
       "    <tr>\n",
       "      <th>3</th>\n",
       "      <td>53.21</td>\n",
       "      <td>1</td>\n",
       "    </tr>\n",
       "    <tr>\n",
       "      <th>4</th>\n",
       "      <td>166.85</td>\n",
       "      <td>2</td>\n",
       "    </tr>\n",
       "  </tbody>\n",
       "</table>\n",
       "</div>"
      ]
     },
     "execution_count": 607,
     "metadata": {},
     "output_type": "execute_result"
    }
   ],
   "execution_count": 607
  },
  {
   "metadata": {
    "ExecuteTime": {
     "end_time": "2025-03-21T21:52:59.031220Z",
     "start_time": "2025-03-21T21:52:59.025888Z"
    }
   },
   "cell_type": "code",
   "source": [
    "R_c = control[\"amount\"].sum()/ control[\"num\"].sum()\n",
    "R_t = treat[\"amount\"].sum()/ treat[\"num\"].sum()\n",
    "R_c, R_t"
   ],
   "id": "35c0125e562043c7",
   "outputs": [
    {
     "data": {
      "text/plain": [
       "(np.float64(101.87012411347517), np.float64(101.24467980295567))"
      ]
     },
     "execution_count": 608,
     "metadata": {},
     "output_type": "execute_result"
    }
   ],
   "execution_count": 608
  },
  {
   "metadata": {
    "ExecuteTime": {
     "end_time": "2025-03-21T21:52:59.117990Z",
     "start_time": "2025-03-21T21:52:59.112668Z"
    }
   },
   "cell_type": "code",
   "source": [
    "def test_power(control, treat, n_iter = 1000):\n",
    "    #здесь в трите к сумме заказов для каждого юзера добавим значение, не меняя количество чеков(для простоты)\n",
    "    alphas = np.linspace(0.05,0.3, num = 6 )\n",
    "    treat_copy = treat.copy()\n",
    "    treat_copy[\"amount\"] =  treat[\"amount\"]  +  np.random.normal(10, 1, len(treat))\n",
    "    stats_power = pd.DataFrame(columns=[\"linear_proxy\", \"bootstrap\", \"delta_method\", \"bucket_method\"], index = alphas)\n",
    "    for alpha in tqdm(alphas):\n",
    "        res_bootstrap = []\n",
    "        res_linearization = []\n",
    "        res_delta = []\n",
    "        res_bucket = []\n",
    "        for i in range(n_iter):\n",
    "            control_boot  = control.sample(len(control), replace = True)\n",
    "            treat_boot  = treat_copy.sample(len(treat_copy), replace = True)\n",
    "            res_linearization.append(linearization_test(control_boot, treat_boot))\n",
    "            res_delta.append(delta_method(control_boot, treat_boot))\n",
    "            res_bootstrap.append(bootstrap(control_boot.values, treat_boot.values))\n",
    "            res_bucket.append(bucket_method(control_boot, treat_boot))\n",
    "        stats_power.loc[alpha,\"linear_proxy\"] = sum(np.array(res_linearization) < alpha) / n_iter\n",
    "        stats_power.loc[alpha,\"bootstrap\"] = sum(np.array(res_bootstrap) < alpha) / n_iter\n",
    "        stats_power.loc[alpha,\"delta_method\"] = sum(np.array(res_delta) < alpha) / n_iter\n",
    "        stats_power.loc[alpha,\"bucket_method\"] = sum(np.array(res_bucket) < alpha) / n_iter\n",
    "    return alphas, stats_power"
   ],
   "id": "56a525e12c986ffe",
   "outputs": [],
   "execution_count": 609
  },
  {
   "metadata": {
    "ExecuteTime": {
     "end_time": "2025-03-21T21:52:59.221973Z",
     "start_time": "2025-03-21T21:52:59.217863Z"
    }
   },
   "cell_type": "code",
   "source": [
    "def linearization_test(control, treat):\n",
    "    R_c = control[\"amount\"].sum()/ treat[\"num\"].sum()\n",
    "    control_metric = control.apply(lambda row: row[\"amount\"] - R_c* row[\"num\"], axis =1)\n",
    "    treat_metric = treat.apply(lambda row: row[\"amount\"] - R_c* row[\"num\"], axis =1)\n",
    "    return stats.ttest_ind(control_metric, treat_metric, equal_var = False)[1]"
   ],
   "id": "a5d4f6b4792331c",
   "outputs": [],
   "execution_count": 610
  },
  {
   "metadata": {
    "ExecuteTime": {
     "end_time": "2025-03-21T21:52:59.262740Z",
     "start_time": "2025-03-21T21:52:59.257237Z"
    }
   },
   "cell_type": "code",
   "source": [
    "def bootstrap(xy_a, xy_b, n_iter=1000):\n",
    "    \"\"\"Оценивает значимость отличий с помощью бутстрепа.\n",
    "\n",
    "    Если отличия значимые, то возвращает 1, иначе 0.\n",
    "    \"\"\"\n",
    "    # генерируем случайные индексы для выбора подмножеств данных\n",
    "    len_a = len(xy_a)\n",
    "    len_b = len(xy_b)\n",
    "    indexes_a = np.random.choice(np.arange(len_a), size=(n_iter, len_a), replace=True)\n",
    "    indexes_b = np.random.choice(np.arange(len_b), size=(n_iter, len_b), replace=True)\n",
    "\n",
    "    bootstrap_stats = []\n",
    "    for idx_a, idx_b in zip(indexes_a, indexes_b):\n",
    "        bootstrap_xy_a = xy_a[idx_a]\n",
    "        bootstrap_xy_b = xy_b[idx_b]\n",
    "        # считаем разницу метрик отношения\n",
    "        bootstrap_stat = (\n",
    "            bootstrap_xy_b[:, 0].sum() / bootstrap_xy_b[:, 1].sum()\n",
    "            - bootstrap_xy_a[:, 0].sum() / bootstrap_xy_a[:, 1].sum()\n",
    "        )\n",
    "        bootstrap_stats.append(bootstrap_stat)\n",
    "\n",
    "    # считаем реальную разность двух групп\n",
    "    delta_mean = np.sum(xy_b[:, 0]) / np.sum(xy_b[:, 1]) - np.sum(xy_a[:, 0]) / np.sum(\n",
    "        xy_a[:, 1]\n",
    "    )\n",
    "    std_delta_mean = np.std(bootstrap_stats)\n",
    "\n",
    "    # считаем p-value\n",
    "    pvalue_delta_mean = 2 * (1 - stats.norm.cdf(np.abs(delta_mean / std_delta_mean)))\n",
    "\n",
    "    return pvalue_delta_mean"
   ],
   "id": "c27f5db8e005a19d",
   "outputs": [],
   "execution_count": 611
  },
  {
   "metadata": {
    "ExecuteTime": {
     "end_time": "2025-03-21T21:52:59.336150Z",
     "start_time": "2025-03-21T21:52:59.330808Z"
    }
   },
   "cell_type": "code",
   "source": [
    "def delta_method(control, treat):\n",
    "    \"\"\"Проверка гипотезы с помощью дельта-метода.\n",
    "\n",
    "    Возвращает p-value.\n",
    "    \"\"\"\n",
    "    dict_ = {}\n",
    "    for data, group_name in [(control, \"a\"), (treat, \"b\")]:\n",
    "        n_user = len(data)\n",
    "        mean_x, mean_y = np.mean(data[\"amount\"]), np.mean(data[\"num\"])\n",
    "        var_x, var_y = np.var(data[\"amount\"]), np.var(data[\"num\"])\n",
    "        cov_xy = np.cov(data[\"amount\"], data[\"num\"])[0, 1]\n",
    "\n",
    "        # точечная оценка метрики\n",
    "        pe_metric = mean_x / mean_y\n",
    "\n",
    "        # оценка дисперсии метрики\n",
    "        var_metric = (\n",
    "            var_x / mean_y**2\n",
    "            - 2 * (mean_x / mean_y**3) * cov_xy\n",
    "            + var_y * (mean_x**2 / mean_y**4)\n",
    "        ) / n_user\n",
    "\n",
    "        dict_[f\"pe_metric_{group_name}\"] = pe_metric\n",
    "        dict_[f\"var_metric_{group_name}\"] = var_metric\n",
    "    var = dict_[\"var_metric_a\"] + dict_[\"var_metric_b\"]\n",
    "    delta = dict_[\"pe_metric_b\"] - dict_[\"pe_metric_a\"]\n",
    "    t = delta / np.sqrt(var)\n",
    "    pvalue = (1 - stats.norm.cdf(np.abs(t))) * 2\n",
    "    return pvalue"
   ],
   "id": "856842436850fb6d",
   "outputs": [],
   "execution_count": 612
  },
  {
   "metadata": {
    "ExecuteTime": {
     "end_time": "2025-03-21T21:52:59.343864Z",
     "start_time": "2025-03-21T21:52:59.339156Z"
    }
   },
   "cell_type": "code",
   "source": [
    "def bucket_method(control, treat):\n",
    "    dict_ = {}\n",
    "    R_compute = lambda df: df[\"amount\"].sum() / df[\"num\"].sum()\n",
    "    for data, group_name in [(control, \"a\"), (treat, \"b\")]:\n",
    "        shuffled= data.sample(frac=1, random_state=42).reset_index(drop=True)\n",
    "        n_user = len(data)\n",
    "        m = 100\n",
    "        bucket_metrics = []\n",
    "        for  i in range(0,n_user, m):\n",
    "            bucket_metrics.append(R_compute(shuffled[i:i+m]))\n",
    "        dict_[f\"buckets_metric_{group_name}\"] = np.array(bucket_metrics)\n",
    "    return stats.ttest_ind(dict_[f\"buckets_metric_a\"], dict_[f\"buckets_metric_b\"]).pvalue"
   ],
   "id": "7ecd397e4acaf905",
   "outputs": [],
   "execution_count": 613
  },
  {
   "metadata": {
    "ExecuteTime": {
     "end_time": "2025-03-21T21:57:57.774443Z",
     "start_time": "2025-03-21T21:52:59.378237Z"
    }
   },
   "cell_type": "code",
   "source": "effects, stats_power =  test_power(control, treat,500)",
   "id": "3dfdc7b022338817",
   "outputs": [
    {
     "name": "stderr",
     "output_type": "stream",
     "text": [
      "100%|██████████| 6/6 [04:58<00:00, 49.73s/it]\n"
     ]
    }
   ],
   "execution_count": 614
  },
  {
   "metadata": {
    "ExecuteTime": {
     "end_time": "2025-03-21T21:57:57.948342Z",
     "start_time": "2025-03-21T21:57:57.849526Z"
    }
   },
   "cell_type": "code",
   "source": [
    "stats_power.plot(figsize=(10, 6))\n",
    "plt.xlabel(\"Уровень значимости\")\n",
    "plt.ylabel(\"Мощность\")\n",
    "plt.show()"
   ],
   "id": "b8bf1f59b643bc7a",
   "outputs": [
    {
     "data": {
      "text/plain": [
       "<Figure size 1000x600 with 1 Axes>"
      ],
      "image/png": "[encoded data removed]"
     },
     "metadata": {},
     "output_type": "display_data"
    }
   ],
   "execution_count": 615
  },
  {
   "metadata": {},
   "cell_type": "markdown",
   "source": "",
   "id": "f5dc60a3e8fe217c"
  },
  {
   "metadata": {},
   "cell_type": "markdown",
   "source": "Все методы показывают схожие результаты за исключением бакетизации. Бакетизация работает хуже, потому что у нас относительно маленькая выборка, около 2к cэмплов всего, поэтому мы получаем либо мало бакетов, либо мало данных в них, из-за чего усреднённая оценка страдает. И да, линеаризация всё-таки мощнее всех остальных.",
   "id": "aed9d1ab3c5a9f0e"
  },
  {
   "cell_type": "markdown",
   "id": "9e50e1aa-da1c-47d6-9b77-00a6d50c37d8",
   "metadata": {},
   "source": [
    "3. Мы сделали рекомендательную систему, которая после добавления товара в корзину предлагает добавить похожие или комплементарные. Логи проведенного теста сохранены в файле `ab_test_logs.pkl`. \n",
    "\n",
    "- Проверьте гипотезу о том, что это изменение значимо повлияло на ARPPU наших power users (95%-й процентиль).\n",
    "- Проверьте гипотезу о том, что это изменение значимо повлияло на ARPPU всех юзеров."
   ]
  },
  {
   "metadata": {
    "ExecuteTime": {
     "end_time": "2025-03-21T21:57:57.985093Z",
     "start_time": "2025-03-21T21:57:57.965673Z"
    }
   },
   "cell_type": "code",
   "source": [
    "target = \"ab_test_logs.pkl\"\n",
    "path = os.path.join(data_path, target)\n",
    "with open( os.path.join(data_path,target), 'rb') as f:\n",
    "    df_ab = pickle.load(f)"
   ],
   "id": "c142d7562938afb9",
   "outputs": [],
   "execution_count": 616
  },
  {
   "metadata": {
    "ExecuteTime": {
     "end_time": "2025-03-21T21:57:58.031324Z",
     "start_time": "2025-03-21T21:57:58.021163Z"
    }
   },
   "cell_type": "code",
   "source": "df_ab",
   "id": "c9fa73b03144a0b4",
   "outputs": [
    {
     "data": {
      "text/plain": [
       "        user_id                  dt      event    group    visit_id  \\\n",
       "0        user_0 2025-03-06 00:00:00   cart-add     test     visit_1   \n",
       "1        user_0 2025-03-06 00:01:00   cart-add     test     visit_1   \n",
       "2        user_0 2025-03-06 00:02:00   cart-add     test     visit_1   \n",
       "3        user_0 2025-03-06 00:10:00  cart-paid     test     visit_1   \n",
       "4        user_1 2025-03-11 00:00:00   cart-add  control     visit_2   \n",
       "...         ...                 ...        ...      ...         ...   \n",
       "31520  user_998 2025-03-03 00:13:00  cart-paid  control  visit_1482   \n",
       "31521  user_999 2025-03-19 00:00:00   cart-add     test  visit_1483   \n",
       "31522  user_999 2025-03-19 00:04:00   cart-add     test  visit_1483   \n",
       "31523  user_999 2025-03-19 00:06:00   cart-add     test  visit_1483   \n",
       "31524  user_999 2025-03-19 00:08:00  cart-paid     test  visit_1483   \n",
       "\n",
       "         cart_id  amount  num_items  old_amount  \n",
       "0         cart_0   43.22        1.0       43.22  \n",
       "1         cart_0   97.84        2.0       97.84  \n",
       "2         cart_0  146.27        7.0      146.27  \n",
       "3         cart_0     NaN        NaN         NaN  \n",
       "4         cart_1   26.08        3.0       26.08  \n",
       "...          ...     ...        ...         ...  \n",
       "31520  cart_1455     NaN        NaN         NaN  \n",
       "31521  cart_1456   20.60        4.0       20.60  \n",
       "31522  cart_1456   44.49       12.0       44.49  \n",
       "31523  cart_1456   54.66       16.0       54.66  \n",
       "31524  cart_1456     NaN        NaN         NaN  \n",
       "\n",
       "[31525 rows x 9 columns]"
      ],
      "text/html": [
       "<div>\n",
       "<style scoped>\n",
       "    .dataframe tbody tr th:only-of-type {\n",
       "        vertical-align: middle;\n",
       "    }\n",
       "\n",
       "    .dataframe tbody tr th {\n",
       "        vertical-align: top;\n",
       "    }\n",
       "\n",
       "    .dataframe thead th {\n",
       "        text-align: right;\n",
       "    }\n",
       "</style>\n",
       "<table border=\"1\" class=\"dataframe\">\n",
       "  <thead>\n",
       "    <tr style=\"text-align: right;\">\n",
       "      <th></th>\n",
       "      <th>user_id</th>\n",
       "      <th>dt</th>\n",
       "      <th>event</th>\n",
       "      <th>group</th>\n",
       "      <th>visit_id</th>\n",
       "      <th>cart_id</th>\n",
       "      <th>amount</th>\n",
       "      <th>num_items</th>\n",
       "      <th>old_amount</th>\n",
       "    </tr>\n",
       "  </thead>\n",
       "  <tbody>\n",
       "    <tr>\n",
       "      <th>0</th>\n",
       "      <td>user_0</td>\n",
       "      <td>2025-03-06 00:00:00</td>\n",
       "      <td>cart-add</td>\n",
       "      <td>test</td>\n",
       "      <td>visit_1</td>\n",
       "      <td>cart_0</td>\n",
       "      <td>43.22</td>\n",
       "      <td>1.0</td>\n",
       "      <td>43.22</td>\n",
       "    </tr>\n",
       "    <tr>\n",
       "      <th>1</th>\n",
       "      <td>user_0</td>\n",
       "      <td>2025-03-06 00:01:00</td>\n",
       "      <td>cart-add</td>\n",
       "      <td>test</td>\n",
       "      <td>visit_1</td>\n",
       "      <td>cart_0</td>\n",
       "      <td>97.84</td>\n",
       "      <td>2.0</td>\n",
       "      <td>97.84</td>\n",
       "    </tr>\n",
       "    <tr>\n",
       "      <th>2</th>\n",
       "      <td>user_0</td>\n",
       "      <td>2025-03-06 00:02:00</td>\n",
       "      <td>cart-add</td>\n",
       "      <td>test</td>\n",
       "      <td>visit_1</td>\n",
       "      <td>cart_0</td>\n",
       "      <td>146.27</td>\n",
       "      <td>7.0</td>\n",
       "      <td>146.27</td>\n",
       "    </tr>\n",
       "    <tr>\n",
       "      <th>3</th>\n",
       "      <td>user_0</td>\n",
       "      <td>2025-03-06 00:10:00</td>\n",
       "      <td>cart-paid</td>\n",
       "      <td>test</td>\n",
       "      <td>visit_1</td>\n",
       "      <td>cart_0</td>\n",
       "      <td>NaN</td>\n",
       "      <td>NaN</td>\n",
       "      <td>NaN</td>\n",
       "    </tr>\n",
       "    <tr>\n",
       "      <th>4</th>\n",
       "      <td>user_1</td>\n",
       "      <td>2025-03-11 00:00:00</td>\n",
       "      <td>cart-add</td>\n",
       "      <td>control</td>\n",
       "      <td>visit_2</td>\n",
       "      <td>cart_1</td>\n",
       "      <td>26.08</td>\n",
       "      <td>3.0</td>\n",
       "      <td>26.08</td>\n",
       "    </tr>\n",
       "    <tr>\n",
       "      <th>...</th>\n",
       "      <td>...</td>\n",
       "      <td>...</td>\n",
       "      <td>...</td>\n",
       "      <td>...</td>\n",
       "      <td>...</td>\n",
       "      <td>...</td>\n",
       "      <td>...</td>\n",
       "      <td>...</td>\n",
       "      <td>...</td>\n",
       "    </tr>\n",
       "    <tr>\n",
       "      <th>31520</th>\n",
       "      <td>user_998</td>\n",
       "      <td>2025-03-03 00:13:00</td>\n",
       "      <td>cart-paid</td>\n",
       "      <td>control</td>\n",
       "      <td>visit_1482</td>\n",
       "      <td>cart_1455</td>\n",
       "      <td>NaN</td>\n",
       "      <td>NaN</td>\n",
       "      <td>NaN</td>\n",
       "    </tr>\n",
       "    <tr>\n",
       "      <th>31521</th>\n",
       "      <td>user_999</td>\n",
       "      <td>2025-03-19 00:00:00</td>\n",
       "      <td>cart-add</td>\n",
       "      <td>test</td>\n",
       "      <td>visit_1483</td>\n",
       "      <td>cart_1456</td>\n",
       "      <td>20.60</td>\n",
       "      <td>4.0</td>\n",
       "      <td>20.60</td>\n",
       "    </tr>\n",
       "    <tr>\n",
       "      <th>31522</th>\n",
       "      <td>user_999</td>\n",
       "      <td>2025-03-19 00:04:00</td>\n",
       "      <td>cart-add</td>\n",
       "      <td>test</td>\n",
       "      <td>visit_1483</td>\n",
       "      <td>cart_1456</td>\n",
       "      <td>44.49</td>\n",
       "      <td>12.0</td>\n",
       "      <td>44.49</td>\n",
       "    </tr>\n",
       "    <tr>\n",
       "      <th>31523</th>\n",
       "      <td>user_999</td>\n",
       "      <td>2025-03-19 00:06:00</td>\n",
       "      <td>cart-add</td>\n",
       "      <td>test</td>\n",
       "      <td>visit_1483</td>\n",
       "      <td>cart_1456</td>\n",
       "      <td>54.66</td>\n",
       "      <td>16.0</td>\n",
       "      <td>54.66</td>\n",
       "    </tr>\n",
       "    <tr>\n",
       "      <th>31524</th>\n",
       "      <td>user_999</td>\n",
       "      <td>2025-03-19 00:08:00</td>\n",
       "      <td>cart-paid</td>\n",
       "      <td>test</td>\n",
       "      <td>visit_1483</td>\n",
       "      <td>cart_1456</td>\n",
       "      <td>NaN</td>\n",
       "      <td>NaN</td>\n",
       "      <td>NaN</td>\n",
       "    </tr>\n",
       "  </tbody>\n",
       "</table>\n",
       "<p>31525 rows × 9 columns</p>\n",
       "</div>"
      ]
     },
     "execution_count": 617,
     "metadata": {},
     "output_type": "execute_result"
    }
   ],
   "execution_count": 617
  },
  {
   "metadata": {
    "ExecuteTime": {
     "end_time": "2025-03-21T21:57:58.114952Z",
     "start_time": "2025-03-21T21:57:58.092773Z"
    }
   },
   "cell_type": "code",
   "source": [
    "sorted_df = df_ab.sort_values(['user_id', 'dt', \"event\"], ascending=[True, True, True])\n",
    "sorted_df.head(10)\n",
    "mask = sorted_df[\"amount\"].isna()\n",
    "prev_val_mask = mask.shift(periods=-1, fill_value=False)\n",
    "sorted_df.loc[mask, [\"amount\"]] = sorted_df[prev_val_mask][\"amount\"].values\n",
    "sorted_df.loc[mask, [\"num_items\"]] = sorted_df[prev_val_mask][\"num_items\"].values\n",
    "pay_users = sorted_df[sorted_df['event'] == \"cart-paid\"]\n",
    "t_df = pay_users[pay_users[\"group\"] == \"test\"]\n",
    "c_df = pay_users[pay_users[\"group\"] == \"control\"]\n",
    "treat = get_revenue_per_user(t_df).values\n",
    "control = get_revenue_per_user(c_df).values"
   ],
   "id": "1cc049f14e6d5729",
   "outputs": [],
   "execution_count": 618
  },
  {
   "metadata": {
    "ExecuteTime": {
     "end_time": "2025-03-21T21:57:58.267368Z",
     "start_time": "2025-03-21T21:57:58.262365Z"
    }
   },
   "cell_type": "code",
   "source": "treat.mean(), control.mean()",
   "id": "6b9c7c1067dd0e68",
   "outputs": [
    {
     "data": {
      "text/plain": [
       "(np.float64(155.27592794116856), np.float64(148.1556214543579))"
      ]
     },
     "execution_count": 619,
     "metadata": {},
     "output_type": "execute_result"
    }
   ],
   "execution_count": 619
  },
  {
   "metadata": {
    "ExecuteTime": {
     "end_time": "2025-03-21T21:57:58.329463Z",
     "start_time": "2025-03-21T21:57:58.326044Z"
    }
   },
   "cell_type": "code",
   "source": [
    "bootstrap_vol=10000\n",
    "quantile_of_interest = .95\n",
    "alpha = .05"
   ],
   "id": "59020f2263135933",
   "outputs": [],
   "execution_count": 620
  },
  {
   "metadata": {},
   "cell_type": "markdown",
   "source": [
    "Там далее будет перебор для разных квантилей, поэтому был выбран более быстрый вариант бутстрапа,чтобы не ждать полчаса. Он даёт очень схожие результаты с классическим, хотя и имеет чуть более консервативные оценки\n",
    "[Bootstrap spotify](https://engineering.atspotify.com/2022/03/comparing-quantiles-at-scale-in-online-a-b-testing/)"
   ],
   "id": "b1db94e955c55646"
  },
  {
   "metadata": {
    "ExecuteTime": {
     "end_time": "2025-03-21T21:57:58.369157Z",
     "start_time": "2025-03-21T21:57:58.365680Z"
    }
   },
   "cell_type": "code",
   "source": [
    "def rnd_spotify_bootstrap(control,treat,bootstrap_vol,quantile_of_interest,alpha):\n",
    "    control_sample_sorted = np.sort(control)\n",
    "    treatment_sample_sorted = np.sort(treat)\n",
    "    spotify_bootstrap_difference = control_sample_sorted[np.random.binomial(len(control)+1, quantile_of_interest,\n",
    "    bootstrap_vol)] - treatment_sample_sorted[np.random.binomial(len(treat)+1,\n",
    "                            quantile_of_interest, bootstrap_vol)]\n",
    "    \n",
    "    diff_quantile = np.quantile(control_sample_sorted, quantile_of_interest) - np.quantile(treatment_sample_sorted, quantile_of_interest)\n",
    "    spotify_confidence_interval = np.quantile(spotify_bootstrap_difference,\n",
    "    [alpha/2 , 1-alpha/2])\n",
    "    return diff_quantile, spotify_confidence_interval"
   ],
   "id": "83fc2d6f78c17f84",
   "outputs": [],
   "execution_count": 621
  },
  {
   "metadata": {
    "ExecuteTime": {
     "end_time": "2025-03-21T21:57:58.445647Z",
     "start_time": "2025-03-21T21:57:58.439466Z"
    }
   },
   "cell_type": "code",
   "source": [
    "diff_quantile, spotify_confidence_interval = rnd_spotify_bootstrap(control,treat,bootstrap_vol,quantile_of_interest,alpha)\n",
    "print(f\"The {(1-alpha)*100}% confidence interval is given by ({spotify_confidence_interval}) for quantile: {quantile_of_interest:.2f} \\nEstimated diff quantile: {diff_quantile:.2f}\")"
   ],
   "id": "d8a9dd2e5f510ec5",
   "outputs": [
    {
     "name": "stdout",
     "output_type": "stream",
     "text": [
      "The 95.0% confidence interval is given by ([-139.31014262  -35.82463944]) for quantile: 0.95 \n",
      "Estimated diff quantile: -75.27\n"
     ]
    }
   ],
   "execution_count": 622
  },
  {
   "metadata": {},
   "cell_type": "markdown",
   "source": [
    "Для 95-квантиля видим, что он действительно вырос в трите и это изменение статзначимое, так как  доверительный интервал  не захватывает ноль.\n",
    "\n",
    "Чтобы проверить, как рекомендательная система отразилась для других юзеров, попробуем перебрать квантили, до тех пор, пока не найдём ненулевую стат.значимую разность."
   ],
   "id": "bdc9d045362b18b2"
  },
  {
   "metadata": {
    "ExecuteTime": {
     "end_time": "2025-03-21T21:57:58.523213Z",
     "start_time": "2025-03-21T21:57:58.506394Z"
    }
   },
   "cell_type": "code",
   "source": [
    "for quantile in np.linspace(.1, .95, 10):\n",
    "    _, lr = rnd_spotify_bootstrap(control,treat,bootstrap_vol,quantile,alpha)\n",
    "    if  lr[0] >= 0 or 0  >=lr[1]:\n",
    "        print(f\"quantile valuable diff  {quantile:.2f}\")"
   ],
   "id": "218ec14ed4b879ee",
   "outputs": [
    {
     "name": "stdout",
     "output_type": "stream",
     "text": [
      "quantile valuable diff  0.95\n"
     ]
    }
   ],
   "execution_count": 623
  },
  {
   "metadata": {},
   "cell_type": "markdown",
   "source": "Разность начинается с 95-квантиля, это значит рекомендательная система  не ухудшает пользовательский опыт для обычных и нелояльных юзеров, но хорошо работает на power-юзерах",
   "id": "35ae1c5bc5ebff"
  },
  {
   "cell_type": "markdown",
   "id": "12ba28c4",
   "metadata": {},
   "source": [
    "### Задание 2 (1 балл)\n",
    "\n",
    "В приложенном файле `sleep.csv` приведено время засыпания одного и того же человека в разные дни.\n",
    "\n",
    "Нужно обработать эти данные и указать такое время суток (с точностью до минуты), после которого с вероятностью 0.9 этот человек уже спит.\n",
    "\n",
    "Как можно оценить стандартное отклонение этой точечной оценки?"
   ]
  },
  {
   "metadata": {
    "ExecuteTime": {
     "end_time": "2025-03-21T21:57:58.571957Z",
     "start_time": "2025-03-21T21:57:58.560037Z"
    }
   },
   "cell_type": "code",
   "source": [
    "target = \"sleep.csv\"\n",
    "path = os.path.join(data_path, target)\n",
    "df = pd.read_csv(path)"
   ],
   "id": "6207c9b4c7f0006d",
   "outputs": [],
   "execution_count": 624
  },
  {
   "metadata": {
    "ExecuteTime": {
     "end_time": "2025-03-21T21:57:58.623903Z",
     "start_time": "2025-03-21T21:57:58.608022Z"
    }
   },
   "cell_type": "code",
   "source": [
    "df.rename(columns={df.columns[0]: \"tstamp\"}, inplace=True)\n",
    "df.tstamp = pd.to_datetime(df.tstamp)\n",
    "df[\"time_only\"] = df[\"tstamp\"].dt.time\n",
    "time_offset_0 = pd.to_datetime(\"22:00:00\").time()\n",
    "#проверим, всегда ли офсет отсчитывается от \"22:00:00\"\n",
    "res = df[df.time_offset ==0]\n",
    "mask = res[\"time_only\"] != time_offset_0\n",
    "filtered_df = res[mask]\n",
    "filtered_df"
   ],
   "id": "b4433e4d50e38c",
   "outputs": [
    {
     "data": {
      "text/plain": [
       "Empty DataFrame\n",
       "Columns: [tstamp, indicator, time_offset, time_only]\n",
       "Index: []"
      ],
      "text/html": [
       "<div>\n",
       "<style scoped>\n",
       "    .dataframe tbody tr th:only-of-type {\n",
       "        vertical-align: middle;\n",
       "    }\n",
       "\n",
       "    .dataframe tbody tr th {\n",
       "        vertical-align: top;\n",
       "    }\n",
       "\n",
       "    .dataframe thead th {\n",
       "        text-align: right;\n",
       "    }\n",
       "</style>\n",
       "<table border=\"1\" class=\"dataframe\">\n",
       "  <thead>\n",
       "    <tr style=\"text-align: right;\">\n",
       "      <th></th>\n",
       "      <th>tstamp</th>\n",
       "      <th>indicator</th>\n",
       "      <th>time_offset</th>\n",
       "      <th>time_only</th>\n",
       "    </tr>\n",
       "  </thead>\n",
       "  <tbody>\n",
       "  </tbody>\n",
       "</table>\n",
       "</div>"
      ]
     },
     "execution_count": 625,
     "metadata": {},
     "output_type": "execute_result"
    }
   ],
   "execution_count": 625
  },
  {
   "metadata": {
    "ExecuteTime": {
     "end_time": "2025-03-21T21:57:58.690285Z",
     "start_time": "2025-03-21T21:57:58.685183Z"
    }
   },
   "cell_type": "code",
   "source": [
    "# Находим строки, где значение меняется с 0 на 1\n",
    "df[\"is_first_one\"] = (df[\"indicator\"] == 1) & (df[\"indicator\"].shift(1) == 0)\n",
    "first_ones_df = df[df[\"is_first_one\"]]\n",
    "first_sleep = first_ones_df[\"time_offset\"].values"
   ],
   "id": "6ef894255763ac72",
   "outputs": [],
   "execution_count": 626
  },
  {
   "metadata": {
    "ExecuteTime": {
     "end_time": "2025-03-21T21:57:58.817953Z",
     "start_time": "2025-03-21T21:57:58.733410Z"
    }
   },
   "cell_type": "code",
   "source": [
    "sns.ecdfplot(first_sleep)\n",
    "plt.xlabel(\"Офсеты\")\n",
    "plt.ylabel(\"ECDF\")\n",
    "plt.title(\"Вероятность, что он заснул до данного оффсета\")\n",
    "plt.grid(True)\n",
    "plt.show()"
   ],
   "id": "2d067d7345847ee7",
   "outputs": [
    {
     "data": {
      "text/plain": [
       "<Figure size 640x480 with 1 Axes>"
      ],
      "image/png": "[encoded data removed]"
     },
     "metadata": {},
     "output_type": "display_data"
    }
   ],
   "execution_count": 627
  },
  {
   "metadata": {},
   "cell_type": "markdown",
   "source": "Можно было бы срезать датасет по всем единичным индикаторам, построить распределение на них, но тогда точечная оценка того, что человек спит в данный момент времени t, будет суммой вероятностей, что он одновременно заснул во все моменты до момента t, а это не очень правильно.",
   "id": "456068d956ba4273"
  },
  {
   "metadata": {},
   "cell_type": "markdown",
   "source": "Данных не так много, но всё равно попробуем забутстрапить, построить распределение на 90-квантиль и посчитать дисперсию.",
   "id": "a92b9db432bffc48"
  },
  {
   "metadata": {
    "ExecuteTime": {
     "end_time": "2025-03-21T21:57:58.870477Z",
     "start_time": "2025-03-21T21:57:58.866501Z"
    }
   },
   "cell_type": "code",
   "source": [
    "#здесь будем использовать классический бустрап, так как данных мало\n",
    "def bootstrap_quantiles(values, n_iter=10000):\n",
    "    boot = np.random.choice(values, size=(n_iter,len(values)), replace=True)\n",
    "    std_ = np.std(np.quantile(boot, .90, axis=1))\n",
    "    return std_"
   ],
   "id": "52137965e8024550",
   "outputs": [],
   "execution_count": 628
  },
  {
   "metadata": {
    "ExecuteTime": {
     "end_time": "2025-03-21T21:57:58.948638Z",
     "start_time": "2025-03-21T21:57:58.931542Z"
    }
   },
   "cell_type": "code",
   "source": [
    "std_ = bootstrap_quantiles(first_sleep)\n",
    "std_"
   ],
   "id": "cd3e98553a88eadd",
   "outputs": [
    {
     "data": {
      "text/plain": [
       "np.float64(3.2523849590108505)"
      ]
     },
     "execution_count": 629,
     "metadata": {},
     "output_type": "execute_result"
    }
   ],
   "execution_count": 629
  },
  {
   "metadata": {
    "ExecuteTime": {
     "end_time": "2025-03-21T21:57:59.014501Z",
     "start_time": "2025-03-21T21:57:59.010429Z"
    }
   },
   "cell_type": "code",
   "source": "np.quantile(first_sleep, .90)",
   "id": "12ede95d62ac7219",
   "outputs": [
    {
     "data": {
      "text/plain": [
       "np.float64(46.0)"
      ]
     },
     "execution_count": 630,
     "metadata": {},
     "output_type": "execute_result"
    }
   ],
   "execution_count": 630
  },
  {
   "metadata": {},
   "cell_type": "markdown",
   "source": "### Положительный офсет это одна минута к 22-часам. Тогда ответ 22:46:00 +- 3 min",
   "id": "7c4074afd447701"
  },
  {
   "cell_type": "markdown",
   "id": "fc9a9f35",
   "metadata": {},
   "source": [
    "### Задание 3. CUPED (1 балла)\n",
    "\n",
    "Cгенерируем выборку из $1000$ сэмплов экспоненциального распределения - это будут значения нашей метрики для $1000$ пользователей"
   ]
  },
  {
   "cell_type": "code",
   "id": "dbdcded4",
   "metadata": {
    "ExecuteTime": {
     "end_time": "2025-03-21T21:57:59.077894Z",
     "start_time": "2025-03-21T21:57:59.073880Z"
    }
   },
   "source": [
    "import numpy as np\n",
    "import pandas as pd\n",
    "from matplotlib import pyplot as plt\n",
    "from scipy import stats\n",
    "from tqdm import tqdm"
   ],
   "outputs": [],
   "execution_count": 631
  },
  {
   "cell_type": "code",
   "id": "e6eae979",
   "metadata": {
    "ExecuteTime": {
     "end_time": "2025-03-21T21:57:59.118796Z",
     "start_time": "2025-03-21T21:57:59.114783Z"
    }
   },
   "source": [
    "control_before = stats.expon(scale=1000).rvs(1000)"
   ],
   "outputs": [],
   "execution_count": 632
  },
  {
   "cell_type": "code",
   "id": "6ff3e743",
   "metadata": {
    "ExecuteTime": {
     "end_time": "2025-03-21T21:57:59.262611Z",
     "start_time": "2025-03-21T21:57:59.155515Z"
    }
   },
   "source": [
    "plt.hist(control_before, bins=100)\n",
    "plt.show()"
   ],
   "outputs": [
    {
     "data": {
      "text/plain": [
       "<Figure size 640x480 with 1 Axes>"
      ],
      "image/png": "[encoded data removed]"
     },
     "metadata": {},
     "output_type": "display_data"
    }
   ],
   "execution_count": 633
  },
  {
   "cell_type": "markdown",
   "id": "bae626a4",
   "metadata": {},
   "source": [
    "Предположим, что при наблюдении метрики в дальнейшем добавляется какой-то нормальный шум"
   ]
  },
  {
   "cell_type": "code",
   "id": "27979637",
   "metadata": {
    "ExecuteTime": {
     "end_time": "2025-03-21T21:57:59.301642Z",
     "start_time": "2025-03-21T21:57:59.297951Z"
    }
   },
   "source": [
    "control = control_before + stats.norm(loc=0, scale=100).rvs(1000)"
   ],
   "outputs": [],
   "execution_count": 634
  },
  {
   "cell_type": "code",
   "id": "b1703c2a",
   "metadata": {
    "ExecuteTime": {
     "end_time": "2025-03-21T21:57:59.441755Z",
     "start_time": "2025-03-21T21:57:59.336685Z"
    }
   },
   "source": [
    "plt.hist(control, bins=100)\n",
    "plt.show()"
   ],
   "outputs": [
    {
     "data": {
      "text/plain": [
       "<Figure size 640x480 with 1 Axes>"
      ],
      "image/png": "[encoded data removed]"
     },
     "metadata": {},
     "output_type": "display_data"
    }
   ],
   "execution_count": 635
  },
  {
   "cell_type": "markdown",
   "id": "ac7a825b",
   "metadata": {},
   "source": [
    "Теперь построим доверительный интервал для среднего значения нашей метрики и посмотрим, появилась ли стат значимая разница. Проведем такой эксперимент $10000$ раз"
   ]
  },
  {
   "cell_type": "code",
   "id": "97449272",
   "metadata": {
    "ExecuteTime": {
     "end_time": "2025-03-21T21:57:59.492629Z",
     "start_time": "2025-03-21T21:57:59.487066Z"
    }
   },
   "source": [
    "stats.norm(loc=control.mean(), scale=control.std() / np.sqrt(len(control))).ppf(\n",
    "    [0.025, 0.975]\n",
    ")"
   ],
   "outputs": [
    {
     "data": {
      "text/plain": [
       "array([ 918.61787399, 1038.35357615])"
      ]
     },
     "execution_count": 636,
     "metadata": {},
     "output_type": "execute_result"
    }
   ],
   "execution_count": 636
  },
  {
   "cell_type": "code",
   "id": "b9c3472b",
   "metadata": {
    "ExecuteTime": {
     "end_time": "2025-03-21T21:58:13.976206Z",
     "start_time": "2025-03-21T21:57:59.580360Z"
    }
   },
   "source": [
    "bad_cnt = 0\n",
    "\n",
    "N = 10000\n",
    "for i in tqdm(range(N)):\n",
    "    control_before = stats.expon(scale=1000).rvs(1000)\n",
    "    control = control_before + stats.norm(loc=0, scale=100).rvs(1000)\n",
    "    left_bound, right_bound = stats.norm(\n",
    "        loc=control.mean(), scale=control.std() / np.sqrt(len(control))\n",
    "    ).ppf([0.025, 0.975])\n",
    "\n",
    "    if left_bound > 1000 or right_bound < 1000:\n",
    "        bad_cnt += 1\n",
    "\n",
    "print(f\"Стат значимая разница есть в {round(bad_cnt / N, 4) * 100}% случаев;\")"
   ],
   "outputs": [
    {
     "name": "stderr",
     "output_type": "stream",
     "text": [
      "100%|██████████| 10000/10000 [00:14<00:00, 695.00it/s]"
     ]
    },
    {
     "name": "stdout",
     "output_type": "stream",
     "text": [
      "Стат значимая разница есть в 4.79% случаев;\n"
     ]
    },
    {
     "name": "stderr",
     "output_type": "stream",
     "text": [
      "\n"
     ]
    }
   ],
   "execution_count": 637
  },
  {
   "cell_type": "markdown",
   "id": "ee39dc74",
   "metadata": {},
   "source": [
    "Как мы видим такой тест ошибается в около $5$% случаев, так как находит разницу в среднем. Ваша задача построить CUPED-метрику основываясь на данной метрике и провести аналогичный тест"
   ]
  },
  {
   "cell_type": "code",
   "id": "f5389957",
   "metadata": {
    "ExecuteTime": {
     "end_time": "2025-03-21T21:58:29.355982Z",
     "start_time": "2025-03-21T21:58:14.096222Z"
    }
   },
   "source": [
    "bad_cnt = 0\n",
    "\n",
    "N = 10000\n",
    "for i in tqdm(range(N)):\n",
    "    control_before = stats.expon(scale=1000).rvs(1000)\n",
    "    control = control_before + stats.norm(loc=0, scale=100).rvs(1000)\n",
    "    \n",
    "    theta = np.cov(control, control_before, bias=True)[0, 1]/np.var(control_before)\n",
    "    #print(theta)\n",
    "    mean = np.mean(control) -  np.mean(control_before)* theta\n",
    "    std = np.sqrt((np.var(control) - 2*theta* np.cov(control, control_before, bias=True)[0, 1] \n",
    "           + theta**2 * np.var(control_before))/len(control))\n",
    "    left_bound, right_bound = stats.norm(loc=mean, scale=std).ppf([0.025, 0.975])\n",
    "\n",
    "    if left_bound > 1000 or right_bound < 1000:\n",
    "        bad_cnt += 1\n",
    "\n",
    "print(f\"Стат значимая разница есть в  {round(bad_cnt / N, 4) * 100}% случаев;\")"
   ],
   "outputs": [
    {
     "name": "stderr",
     "output_type": "stream",
     "text": [
      "100%|██████████| 10000/10000 [00:15<00:00, 655.65it/s]"
     ]
    },
    {
     "name": "stdout",
     "output_type": "stream",
     "text": [
      "Стат значимая разница есть в  100.0% случаев;\n"
     ]
    },
    {
     "name": "stderr",
     "output_type": "stream",
     "text": [
      "\n"
     ]
    }
   ],
   "execution_count": 638
  },
  {
   "metadata": {},
   "cell_type": "markdown",
   "source": "По всей видимости тут есть ошибка в проверке, так как границы уже не следует сравнивать с 1000",
   "id": "bf0721e6cbd3915a"
  },
  {
   "cell_type": "markdown",
   "id": "b81934f6",
   "metadata": {},
   "source": [
    "Результат должен получиться не очень хороший. Давайте теперь сделаем иначе: сгенерируем выборку из $10000$ значений, а затем выберем $2$ группы по $1000$ юзеров, которые будут нашими группами для теста. Опять добавим шум в обе группы аналогично тому, что показано в первом приме\n",
    "ре с теми же параметрами. Ваша задача вписать CUPED метрики используя знание обо всех $10000$ юзерах."
   ]
  },
  {
   "cell_type": "code",
   "id": "bd70100a",
   "metadata": {
    "ExecuteTime": {
     "end_time": "2025-03-21T21:58:37.929865Z",
     "start_time": "2025-03-21T21:58:29.409190Z"
    }
   },
   "source": [
    "bad_cnt = 0\n",
    "bad_cnt_after = 0\n",
    "bad_cnt_before = 0\n",
    "N = 1000\n",
    "for i in tqdm(range(N)):\n",
    "    control_before_full = stats.expon(scale=1000).rvs(1000 * 10)\n",
    "    samples_in_ab = 2000\n",
    "    indexes_to_take_a = np.random.choice(\n",
    "        range(samples_in_ab), samples_in_ab // 2, False\n",
    "    )\n",
    "    indexes_to_take_b = [x for x in range(samples_in_ab) if x not in indexes_to_take_a]\n",
    "\n",
    "    control_before_a = control_before_full[indexes_to_take_a]\n",
    "    control_before_b = control_before_full[indexes_to_take_b]\n",
    "\n",
    "    control_after_a = control_before_a + stats.norm(loc=0, scale=100).rvs(\n",
    "        samples_in_ab // 2\n",
    "    )\n",
    "    control_after_b = control_before_b + stats.norm(loc=0, scale=100).rvs(\n",
    "        samples_in_ab // 2\n",
    "    )\n",
    "    control_before_merged = np.hstack((control_before_a, control_before_b)) #наши ковариаты\n",
    "    control_after_merged = np.hstack((control_after_a, control_after_b)) #типо \n",
    "    theta = np.cov(control_after_merged, control_before_merged, bias=True)[0, 1]/np.var(control_before_merged)\n",
    "    control_cup_a = control_after_a - theta*control_before_a\n",
    "    control_cup_b = control_after_b - theta*control_before_b\n",
    "\n",
    "    if stats.kstest(control_cup_a, control_cup_b).pvalue < 0.05:\n",
    "        bad_cnt += 1\n",
    "    if stats.kstest(control_after_a, control_after_b).pvalue < 0.05:\n",
    "        bad_cnt_after += 1\n",
    "    if stats.kstest(control_before_a, control_before_b).pvalue < 0.05:\n",
    "        bad_cnt_before += 1\n",
    "\n",
    "print(f\"Стат значимая разница есть в  {round(bad_cnt / N, 4) * 100}% случаев;\")\n",
    "print(f\"Стат значимая разница есть в  {round(bad_cnt_after / N, 4) * 100}% случаев;\")"
   ],
   "outputs": [
    {
     "name": "stderr",
     "output_type": "stream",
     "text": [
      "100%|██████████| 1000/1000 [00:08<00:00, 117.48it/s]"
     ]
    },
    {
     "name": "stdout",
     "output_type": "stream",
     "text": [
      "Стат значимая разница есть в  4.9% случаев;\n",
      "Стат значимая разница есть в  4.3% случаев;\n",
      "Стат значимая разница есть в  4.9% случаев;\n"
     ]
    },
    {
     "name": "stderr",
     "output_type": "stream",
     "text": [
      "\n"
     ]
    }
   ],
   "execution_count": 639
  },
  {
   "cell_type": "markdown",
   "id": "67c0382d",
   "metadata": {},
   "source": [
    "Результат получился уже совсем другой. Опишите свои мысли по поводу того, из-за чего возникает такая разница:\n",
    "\n"
   ]
  },
  {
   "metadata": {},
   "cell_type": "markdown",
   "source": "Я так понимаю нужно сравнить это с вышестоящим заданием, но кажется там сама проверка некорректная. Что касается этого задания, то здесь купед отпилит дисперсию шума, которая составляет 10_000 по сравнению с дисперсией в один миллион основной выборки. Это надбавка шума всё равно будет относительно маленькой, поэтому КС тест считает, что распределения всё равно одинаковые.",
   "id": "128596caac48e59d"
  },
  {
   "cell_type": "markdown",
   "id": "3c2a0409",
   "metadata": {},
   "source": [
    "Далее проделаем такой же эксперимент при наличии реального смещения среднего значения и посмотрим на результаты с CUPED и без."
   ]
  },
  {
   "cell_type": "code",
   "id": "e78af510",
   "metadata": {},
   "source": [
    "bad_cnt = 0\n",
    "bad_cnt_cuped = 0\n",
    "\n",
    "N = 1000\n",
    "for i in tqdm(range(N)):\n",
    "    control_before_full = stats.expon(scale=1000).rvs(1000 * 10)\n",
    "    samples_in_ab = 2000\n",
    "    indexes_to_take_a = np.random.choice(\n",
    "        range(samples_in_ab), samples_in_ab // 2, False\n",
    "    )\n",
    "    indexes_to_take_b = [x for x in range(samples_in_ab) if x not in indexes_to_take_a]\n",
    "\n",
    "    control_before_a = control_before_full[indexes_to_take_a]\n",
    "    control_before_b = control_before_full[indexes_to_take_b]\n",
    "\n",
    "    control_after_a = control_before_a + stats.norm(loc=0, scale=100).rvs(\n",
    "        samples_in_ab // 2\n",
    "    )\n",
    "    control_after_b = control_before_b + stats.norm(loc=10, scale=100).rvs(\n",
    "        samples_in_ab // 2\n",
    "    )\n",
    "    \n",
    "    control_before_merged = np.hstack((control_before_a, control_before_b)) \n",
    "    control_after_merged = np.hstack((control_after_a, control_after_b)) \n",
    "    theta = np.cov(control_after_merged, control_before_merged, bias=True)[0, 1]/np.var(control_before_merged)\n",
    "    control_cup_a = control_after_a - theta*control_before_a\n",
    "    control_cup_b = control_after_b - theta*control_before_b\n",
    "\n",
    "\n",
    "    if stats.kstest(control_after_a, control_after_b).pvalue < 0.05:\n",
    "        bad_cnt += 1\n",
    "\n",
    "    if stats.kstest(control_cup_a, control_cup_b).pvalue < 0.05:\n",
    "        bad_cnt_cuped += 1\n",
    "\n",
    "print(\n",
    "    f\"Стат значимая разница есть в  {round(bad_cnt / N, 4) * 100}% случаев; при использовании CUPED -- в {round(bad_cnt_cuped / N, 4) * 100}% случаев\"\n",
    ")"
   ],
   "outputs": [],
   "execution_count": null
  },
  {
   "cell_type": "markdown",
   "id": "34c9e314",
   "metadata": {},
   "source": [
    "### Задание 4. Методы снижения дисперсии (2 балла)\n",
    "\n",
    "В этой части задания вам нужно применить методы снижения дисперсии с лекций, чтобы провести более точные тесты по данным из файла.\n",
    "\n",
    "Данные представляют собой значение какой-то метрики для трех возрастных групп пользователей. Столбец group отвечает за группу, в которой находятся пользователи: \n",
    "- `None` - пользователь не участвует в АБ тесте, \n",
    "- `*_before_i` - соответствующая группа до начала теста, \n",
    "- `*_after_i` - группа после начала эксперимента\n",
    "\n",
    "Чем больше i, тем позже было сделано наблюдение. \n",
    "\n",
    "Cчитайте, что юзеры всегда идут в одном порядке в группах. То есть `data[data.group == 'control_before_i']`\n",
    "дает юзеров в той же последовательности, что `data[data.group == 'control_after_i']` для всех i.  Аналогичное верно для тритмента.\n",
    "\n",
    "\n",
    "#### Что надо сделать:\n",
    "1. Напишите тест Стьюдента самостоятельно - то есть вы должны сами вычислить тестовую статистику, а затем используя квантильную функцию определить p-value. Квантили можно брать из готовых библиотек.\n",
    "\n",
    "2. Реализуйте пост-стратификацию и CUPED. \n",
    "\n",
    "3. Проведите тесты между `control_before_i` и `treatment_before_i` снчала без применения пост-стратификации и CUPED, а затем с ними. Без применения каких-либо методов такой тест покажет p-value около $0.05$ только при i == 5. Ваша задача применить методы уменьшения дисперсии, чтобы с помощью теста Стьюдента можно было обнаружить отличие на уровне значимости $0.05$\n",
    "\n",
    "4. Опишите свои результаты."
   ]
  },
  {
   "metadata": {
    "ExecuteTime": {
     "end_time": "2025-03-21T21:58:46.101029Z",
     "start_time": "2025-03-21T21:58:46.096669Z"
    }
   },
   "cell_type": "code",
   "source": [
    "def t_test(sample1, sample2):\n",
    "    mean1 = sum(sample1) / len(sample1)\n",
    "    mean2 = sum(sample2) / len(sample2)\n",
    "    var1 = sum((x - mean1) ** 2 for x in sample1) / (len(sample1) - 1)\n",
    "    var2 = sum((x - mean2) ** 2 for x in sample2) / (len(sample2) - 1)\n",
    "    n1 = len(sample1)\n",
    "    n2 = len(sample2)\n",
    "    t_stat = (mean1 - mean2) / math.sqrt(var1 / n1 + var2 / n2)\n",
    "    df = n1 + n2 - 2\n",
    "    p_value = 2 * (1 - stats.t.cdf(abs(t_stat), df))\n",
    "    return t_stat, p_value"
   ],
   "id": "400564c8b345cfb1",
   "outputs": [],
   "execution_count": 641
  },
  {
   "metadata": {
    "ExecuteTime": {
     "end_time": "2025-03-21T21:58:46.186932Z",
     "start_time": "2025-03-21T21:58:46.149902Z"
    }
   },
   "cell_type": "code",
   "source": [
    "target = \"data_ab.csv\"\n",
    "path = os.path.join(data_path, target)\n",
    "df = pd.read_csv(path)"
   ],
   "id": "7a413f4dab8e358e",
   "outputs": [],
   "execution_count": 642
  },
  {
   "metadata": {
    "ExecuteTime": {
     "end_time": "2025-03-21T21:58:46.241416Z",
     "start_time": "2025-03-21T21:58:46.233723Z"
    }
   },
   "cell_type": "code",
   "source": "df",
   "id": "4e8fde8744575512",
   "outputs": [
    {
     "data": {
      "text/plain": [
       "         age        metric              group\n",
       "0      young  11309.036916   treatment_before\n",
       "1      young   8496.554679     control_before\n",
       "2      young  11891.862586     control_before\n",
       "3      young   9229.445011   treatment_before\n",
       "4      young  10410.961279     control_before\n",
       "...      ...           ...                ...\n",
       "99995    old   7890.224384  treatment_after_5\n",
       "99996    old   8165.046263  treatment_after_5\n",
       "99997    old  10034.632118  treatment_after_5\n",
       "99998    old   7564.445251  treatment_after_5\n",
       "99999    old   7482.930177  treatment_after_5\n",
       "\n",
       "[100000 rows x 3 columns]"
      ],
      "text/html": [
       "<div>\n",
       "<style scoped>\n",
       "    .dataframe tbody tr th:only-of-type {\n",
       "        vertical-align: middle;\n",
       "    }\n",
       "\n",
       "    .dataframe tbody tr th {\n",
       "        vertical-align: top;\n",
       "    }\n",
       "\n",
       "    .dataframe thead th {\n",
       "        text-align: right;\n",
       "    }\n",
       "</style>\n",
       "<table border=\"1\" class=\"dataframe\">\n",
       "  <thead>\n",
       "    <tr style=\"text-align: right;\">\n",
       "      <th></th>\n",
       "      <th>age</th>\n",
       "      <th>metric</th>\n",
       "      <th>group</th>\n",
       "    </tr>\n",
       "  </thead>\n",
       "  <tbody>\n",
       "    <tr>\n",
       "      <th>0</th>\n",
       "      <td>young</td>\n",
       "      <td>11309.036916</td>\n",
       "      <td>treatment_before</td>\n",
       "    </tr>\n",
       "    <tr>\n",
       "      <th>1</th>\n",
       "      <td>young</td>\n",
       "      <td>8496.554679</td>\n",
       "      <td>control_before</td>\n",
       "    </tr>\n",
       "    <tr>\n",
       "      <th>2</th>\n",
       "      <td>young</td>\n",
       "      <td>11891.862586</td>\n",
       "      <td>control_before</td>\n",
       "    </tr>\n",
       "    <tr>\n",
       "      <th>3</th>\n",
       "      <td>young</td>\n",
       "      <td>9229.445011</td>\n",
       "      <td>treatment_before</td>\n",
       "    </tr>\n",
       "    <tr>\n",
       "      <th>4</th>\n",
       "      <td>young</td>\n",
       "      <td>10410.961279</td>\n",
       "      <td>control_before</td>\n",
       "    </tr>\n",
       "    <tr>\n",
       "      <th>...</th>\n",
       "      <td>...</td>\n",
       "      <td>...</td>\n",
       "      <td>...</td>\n",
       "    </tr>\n",
       "    <tr>\n",
       "      <th>99995</th>\n",
       "      <td>old</td>\n",
       "      <td>7890.224384</td>\n",
       "      <td>treatment_after_5</td>\n",
       "    </tr>\n",
       "    <tr>\n",
       "      <th>99996</th>\n",
       "      <td>old</td>\n",
       "      <td>8165.046263</td>\n",
       "      <td>treatment_after_5</td>\n",
       "    </tr>\n",
       "    <tr>\n",
       "      <th>99997</th>\n",
       "      <td>old</td>\n",
       "      <td>10034.632118</td>\n",
       "      <td>treatment_after_5</td>\n",
       "    </tr>\n",
       "    <tr>\n",
       "      <th>99998</th>\n",
       "      <td>old</td>\n",
       "      <td>7564.445251</td>\n",
       "      <td>treatment_after_5</td>\n",
       "    </tr>\n",
       "    <tr>\n",
       "      <th>99999</th>\n",
       "      <td>old</td>\n",
       "      <td>7482.930177</td>\n",
       "      <td>treatment_after_5</td>\n",
       "    </tr>\n",
       "  </tbody>\n",
       "</table>\n",
       "<p>100000 rows × 3 columns</p>\n",
       "</div>"
      ]
     },
     "execution_count": 643,
     "metadata": {},
     "output_type": "execute_result"
    }
   ],
   "execution_count": 643
  },
  {
   "metadata": {},
   "cell_type": "markdown",
   "source": "treatment_before_i нету, все группы одинакого размера",
   "id": "7d531cab5c2faf65"
  },
  {
   "metadata": {
    "ExecuteTime": {
     "end_time": "2025-03-21T21:58:46.321349Z",
     "start_time": "2025-03-21T21:58:46.311823Z"
    }
   },
   "cell_type": "code",
   "source": "df.groupby(\"group\").size()",
   "id": "7a9bc8b7f0cf2058",
   "outputs": [
    {
     "data": {
      "text/plain": [
       "group\n",
       "control_after_1      4500\n",
       "control_after_2      4500\n",
       "control_after_3      4500\n",
       "control_after_4      4500\n",
       "control_after_5      4500\n",
       "control_before       4500\n",
       "treatment_after_1    4500\n",
       "treatment_after_2    4500\n",
       "treatment_after_3    4500\n",
       "treatment_after_4    4500\n",
       "treatment_after_5    4500\n",
       "treatment_before     4500\n",
       "dtype: int64"
      ]
     },
     "execution_count": 644,
     "metadata": {},
     "output_type": "execute_result"
    }
   ],
   "execution_count": 644
  },
  {
   "cell_type": "code",
   "id": "5ccd6e69",
   "metadata": {
    "ExecuteTime": {
     "end_time": "2025-03-21T21:58:46.400775Z",
     "start_time": "2025-03-21T21:58:46.394775Z"
    }
   },
   "source": "df.group.unique(), len(df)",
   "outputs": [
    {
     "data": {
      "text/plain": [
       "(array(['treatment_before', 'control_before', nan, 'control_after_1',\n",
       "        'treatment_after_1', 'control_after_2', 'treatment_after_2',\n",
       "        'control_after_3', 'treatment_after_3', 'control_after_4',\n",
       "        'treatment_after_4', 'control_after_5', 'treatment_after_5'],\n",
       "       dtype=object),\n",
       " 100000)"
      ]
     },
     "execution_count": 645,
     "metadata": {},
     "output_type": "execute_result"
    }
   ],
   "execution_count": 645
  },
  {
   "metadata": {},
   "cell_type": "markdown",
   "source": "",
   "id": "7d2532dbdb15fb09"
  },
  {
   "metadata": {
    "ExecuteTime": {
     "end_time": "2025-03-21T21:58:46.566691Z",
     "start_time": "2025-03-21T21:58:46.557433Z"
    }
   },
   "cell_type": "code",
   "source": [
    "p_k = df.groupby(\"age\").size() / len(df)\n",
    "p_k"
   ],
   "id": "f83c986f63748405",
   "outputs": [
    {
     "data": {
      "text/plain": [
       "age\n",
       "adult    0.45\n",
       "old      0.35\n",
       "young    0.20\n",
       "dtype: float64"
      ]
     },
     "execution_count": 646,
     "metadata": {},
     "output_type": "execute_result"
    }
   ],
   "execution_count": 646
  },
  {
   "metadata": {
    "ExecuteTime": {
     "end_time": "2025-03-21T21:58:46.680740Z",
     "start_time": "2025-03-21T21:58:46.676590Z"
    }
   },
   "cell_type": "code",
   "source": [
    "def compute_strata_info(alias, df,p_k):\n",
    "    privot_strats = df[df.group == alias].groupby('age')[\"metric\"].agg(\n",
    "        avg_ = \"mean\",\n",
    "        var_ = \"var\" \n",
    "    )\n",
    "    n_vol = len(df[df.group == alias])\n",
    "    mean_strat = sum(privot_strats.avg_ * p_k.values)\n",
    "    var_strat = sum((privot_strats.var_ * p_k.values))/n_vol + sum((1-p_k.values)*privot_strats.var_)/n_vol**2\n",
    "    return mean_strat, var_strat, n_vol"
   ],
   "id": "e3a353b11696071c",
   "outputs": [],
   "execution_count": 647
  },
  {
   "metadata": {
    "ExecuteTime": {
     "end_time": "2025-03-21T21:58:46.780117Z",
     "start_time": "2025-03-21T21:58:46.775109Z"
    }
   },
   "cell_type": "code",
   "source": [
    "def post_strats(control_alias,treat_alias,df, p_k: pd.DataFrame):\n",
    "    control_mean, control_var, n_c =  compute_strata_info(control_alias,df,p_k)\n",
    "    treat_mean, treat_var, n_t =  compute_strata_info(treat_alias,df,p_k)\n",
    "    std_all = np.sqrt(treat_var + control_var)\n",
    "    order_stud = (treat_var + control_var)**2/(treat_var**2/(n_t - 3) + control_var**2/(n_c - 3))\n",
    "    t_stat = (control_mean - treat_mean)/std_all\n",
    "    p_value = 2 * (1 - stats.t.cdf(abs(t_stat), order_stud))\n",
    "    return t_stat, p_value"
   ],
   "id": "5c625ae974320bc4",
   "outputs": [],
   "execution_count": 648
  },
  {
   "metadata": {
    "ExecuteTime": {
     "end_time": "2025-03-21T21:58:46.935161Z",
     "start_time": "2025-03-21T21:58:46.930820Z"
    }
   },
   "cell_type": "code",
   "source": [
    "def cuped(control_alias, treat_alias, df): \n",
    "    control_before = df[df.group == \"control_before\"].metric.values\n",
    "    treat_before = df[df.group == \"treatment_before\"].metric.values\n",
    "    covariates = np.hstack((control_before, treat_before))\n",
    "    control = df[df.group == control_alias].metric.values\n",
    "    treat = df[df.group == treat_alias].metric.values\n",
    "    metric = np.hstack((control, treat))\n",
    "    theta = np.cov(covariates, metric, bias=True)[0, 1]/np.var(covariates)\n",
    "    control_cuped = control - theta*control_before\n",
    "    treat_cuped = treat - theta*treat_before\n",
    "    return t_test(control_cuped, treat_cuped)"
   ],
   "id": "f287f0956c1a7e2f",
   "outputs": [],
   "execution_count": 649
  },
  {
   "metadata": {
    "ExecuteTime": {
     "end_time": "2025-03-21T21:58:47.135864Z",
     "start_time": "2025-03-21T21:58:46.957553Z"
    }
   },
   "cell_type": "code",
   "source": [
    "pivot = pd.DataFrame(index = list(range(1,6)), columns=[\"t_test\", \"cuped\", \"post_strat\"])\n",
    "\n",
    "\n",
    "for i in range(1,6):\n",
    "    control_alias = f\"control_after_{i}\"\n",
    "    treatment_alias = f\"treatment_after_{i}\"\n",
    "    control  = df[df.group == control_alias].metric.values\n",
    "    treat  = df[df.group == treatment_alias].metric.values\n",
    "    _, p_value = t_test(control, treat)\n",
    "    pivot.loc[i, \"t_test\"] = p_value\n",
    "    _, p_value= cuped(control_alias, treatment_alias, df)\n",
    "    pivot.loc[i, \"cuped\"] = p_value\n",
    "    _, p_value= post_strats(control_alias, treatment_alias, df,p_k)\n",
    "    pivot.loc[i, \"post_strat\"] = p_value"
   ],
   "id": "930caaa8472a7196",
   "outputs": [],
   "execution_count": 650
  },
  {
   "metadata": {
    "ExecuteTime": {
     "end_time": "2025-03-21T21:58:47.259229Z",
     "start_time": "2025-03-21T21:58:47.180841Z"
    }
   },
   "cell_type": "code",
   "source": [
    "pivot.plot()\n",
    "plt.xlim([1,5])\n",
    "plt.xticks(range(1, 6)) \n",
    "plt.xlabel(\"Номер измерения\")\n",
    "plt.ylabel(\"p_value\")\n",
    "plt.axhline(y = 0.05, color=\"r\", linestyle='--', label='alpha 0.05')\n",
    "plt.show()"
   ],
   "id": "f4de30e7005dd260",
   "outputs": [
    {
     "data": {
      "text/plain": [
       "<Figure size 640x480 with 1 Axes>"
      ],
      "image/png": "[encoded data removed]"
     },
     "metadata": {},
     "output_type": "display_data"
    }
   ],
   "execution_count": 651
  },
  {
   "metadata": {},
   "cell_type": "markdown",
   "source": "CUPED начал видеть различия с самого начала, пост-стратификация начиная со второго отсчёта, а обычный t-test только на 5-ом измерении подошёл к уровню значимости.",
   "id": "5055ef83503bf907"
  },
  {
   "cell_type": "markdown",
   "id": "d330acf2",
   "metadata": {},
   "source": [
    "### Задание 5. Линеаризация + CUPED (2.5 балла)\n",
    "\n",
    "1. В файле `duration_aa.csv` содержатся данные для АА-теста. Проверьте гипотезу о равенстве средних длительностей визита с помощью линеаризации, постройте распределение p-value.\n",
    "\n",
    "2. Мы поменяли верстку нашего сайта и запустили АБ-тест, чтобы выяснить, увеличилась ли средняя продолжительность визита при новом дизайне. Результаты теста лежат в файле `duration_ab.csv`. С помощью линеаризованной метрики проверьте, есть ли разница в средней длительности визита между контрольной и тестовой группами.\n",
    "\n",
    "3. Примените CUPED и снова проведите АБ-тест. Что произошло с p-value? Почему?\n",
    "\n",
    "В каждом пункте необходимо визуализировать распределение p-value и сонаправленность линеаризованной разности метрик и разности ratio-метр ик."
   ]
  },
  {
   "metadata": {
    "ExecuteTime": {
     "end_time": "2025-03-21T21:58:47.322444Z",
     "start_time": "2025-03-21T21:58:47.305719Z"
    }
   },
   "cell_type": "code",
   "source": [
    "target = \"duration_aa.csv\"\n",
    "df = pd.read_csv(os.path.join(data_path, target))\n",
    "df.head(5)"
   ],
   "id": "c1149f424ed34295",
   "outputs": [
    {
     "data": {
      "text/plain": [
       "   Unnamed: 0 user_id  group              visit_id  visit_duration\n",
       "0           0  JP1F82  first  ypn3ydiml32oelnslnjv            84.0\n",
       "1           1  JP1F82  first  ypy93q2g8ypdtwbpv8b5            61.0\n",
       "2           2  JP1F82  first  d8m6q0bmr40wgi6zuor3            81.0\n",
       "3           3  JP1F82  first  5b72re4nr84fszqx7f6e            54.0\n",
       "4           4  0Y2HSZ  first  z40pmuyaczi92gmlqz6t            97.0"
      ],
      "text/html": [
       "<div>\n",
       "<style scoped>\n",
       "    .dataframe tbody tr th:only-of-type {\n",
       "        vertical-align: middle;\n",
       "    }\n",
       "\n",
       "    .dataframe tbody tr th {\n",
       "        vertical-align: top;\n",
       "    }\n",
       "\n",
       "    .dataframe thead th {\n",
       "        text-align: right;\n",
       "    }\n",
       "</style>\n",
       "<table border=\"1\" class=\"dataframe\">\n",
       "  <thead>\n",
       "    <tr style=\"text-align: right;\">\n",
       "      <th></th>\n",
       "      <th>Unnamed: 0</th>\n",
       "      <th>user_id</th>\n",
       "      <th>group</th>\n",
       "      <th>visit_id</th>\n",
       "      <th>visit_duration</th>\n",
       "    </tr>\n",
       "  </thead>\n",
       "  <tbody>\n",
       "    <tr>\n",
       "      <th>0</th>\n",
       "      <td>0</td>\n",
       "      <td>JP1F82</td>\n",
       "      <td>first</td>\n",
       "      <td>ypn3ydiml32oelnslnjv</td>\n",
       "      <td>84.0</td>\n",
       "    </tr>\n",
       "    <tr>\n",
       "      <th>1</th>\n",
       "      <td>1</td>\n",
       "      <td>JP1F82</td>\n",
       "      <td>first</td>\n",
       "      <td>ypy93q2g8ypdtwbpv8b5</td>\n",
       "      <td>61.0</td>\n",
       "    </tr>\n",
       "    <tr>\n",
       "      <th>2</th>\n",
       "      <td>2</td>\n",
       "      <td>JP1F82</td>\n",
       "      <td>first</td>\n",
       "      <td>d8m6q0bmr40wgi6zuor3</td>\n",
       "      <td>81.0</td>\n",
       "    </tr>\n",
       "    <tr>\n",
       "      <th>3</th>\n",
       "      <td>3</td>\n",
       "      <td>JP1F82</td>\n",
       "      <td>first</td>\n",
       "      <td>5b72re4nr84fszqx7f6e</td>\n",
       "      <td>54.0</td>\n",
       "    </tr>\n",
       "    <tr>\n",
       "      <th>4</th>\n",
       "      <td>4</td>\n",
       "      <td>0Y2HSZ</td>\n",
       "      <td>first</td>\n",
       "      <td>z40pmuyaczi92gmlqz6t</td>\n",
       "      <td>97.0</td>\n",
       "    </tr>\n",
       "  </tbody>\n",
       "</table>\n",
       "</div>"
      ]
     },
     "execution_count": 652,
     "metadata": {},
     "output_type": "execute_result"
    }
   ],
   "execution_count": 652
  },
  {
   "metadata": {
    "ExecuteTime": {
     "end_time": "2025-03-21T21:58:47.395897Z",
     "start_time": "2025-03-21T21:58:47.391747Z"
    }
   },
   "cell_type": "code",
   "source": [
    "def prepare_data(df, control_alias, treat_alias):\n",
    "    res = df.groupby([\"user_id\", \"group\"])[\"visit_duration\"].agg(\n",
    "    amount = \"sum\",\n",
    "    num = \"count\"\n",
    "    ).reset_index()\n",
    "    treat = res[res.group == treat_alias]\n",
    "    treat.set_index(\"user_id\", inplace = True)\n",
    "    control = res[res.group == control_alias]\n",
    "    control.set_index(\"user_id\", inplace = True)\n",
    "    return control, treat"
   ],
   "id": "5bb728f97aae5a95",
   "outputs": [],
   "execution_count": 653
  },
  {
   "metadata": {
    "ExecuteTime": {
     "end_time": "2025-03-21T21:58:47.441799Z",
     "start_time": "2025-03-21T21:58:47.432221Z"
    }
   },
   "cell_type": "code",
   "source": "control, treat = prepare_data(df, \"first\", \"second\")",
   "id": "ebefc8ce7d73f255",
   "outputs": [],
   "execution_count": 654
  },
  {
   "metadata": {
    "ExecuteTime": {
     "end_time": "2025-03-21T21:58:47.473447Z",
     "start_time": "2025-03-21T21:58:47.469065Z"
    }
   },
   "cell_type": "code",
   "source": [
    "def linearization_test_duration(control, treat):\n",
    "    R_c = control[\"amount\"].sum()/ control[\"num\"].sum()\n",
    "    R_t = treat[\"amount\"].sum()/ treat[\"num\"].sum()\n",
    "    control_metric = control.apply(lambda row: row[\"amount\"] - R_c* row[\"num\"], axis =1)\n",
    "    treat_metric = treat.apply(lambda row: row[\"amount\"] - R_c* row[\"num\"], axis =1)\n",
    "    return (control_metric.mean() - treat_metric.mean(),\n",
    "            R_c - R_t,\n",
    "            stats.ttest_ind(control_metric, treat_metric, equal_var = False)[1])"
   ],
   "id": "c2adb7aeb5afb119",
   "outputs": [],
   "execution_count": 655
  },
  {
   "metadata": {
    "ExecuteTime": {
     "end_time": "2025-03-21T21:58:47.522660Z",
     "start_time": "2025-03-21T21:58:47.518512Z"
    }
   },
   "cell_type": "code",
   "source": [
    "def Ratio_test(control, treat, n_iter = 1000):\n",
    "    alpha = .05\n",
    "    p_values = []\n",
    "    diff = []\n",
    "    for i in tqdm(range(n_iter)):\n",
    "        control_boot  = control.sample(len(control), replace = True)\n",
    "        treat_boot  = treat.sample(len(treat), replace = True)\n",
    "        proxy_diff, ratio_diff, p_value = linearization_test_duration(control_boot, treat_boot)\n",
    "        diff.append((proxy_diff, ratio_diff))\n",
    "        p_values.append(p_value)\n",
    "    fpr = sum(np.array(p_values) < alpha) / n_iter\n",
    "    diff = np.array(diff)\n",
    "    return p_values, diff, fpr"
   ],
   "id": "3283292a439501d0",
   "outputs": [],
   "execution_count": 656
  },
  {
   "metadata": {
    "ExecuteTime": {
     "end_time": "2025-03-21T21:58:59.253187Z",
     "start_time": "2025-03-21T21:58:47.614659Z"
    }
   },
   "cell_type": "code",
   "source": "p_values, diff,  fpr = Ratio_test(control,treat)",
   "id": "ac2c3f1d60578458",
   "outputs": [
    {
     "name": "stderr",
     "output_type": "stream",
     "text": [
      "100%|██████████| 1000/1000 [00:11<00:00, 85.96it/s]\n"
     ]
    }
   ],
   "execution_count": 657
  },
  {
   "metadata": {
    "ExecuteTime": {
     "end_time": "2025-03-21T21:58:59.260199Z",
     "start_time": "2025-03-21T21:58:59.256221Z"
    }
   },
   "cell_type": "code",
   "source": [
    "def show_res(p_values, diff):\n",
    "    plt.figure(figsize=(10, 6))\n",
    "    plt.subplot(1,2,1)\n",
    "    sns.ecdfplot(p_values)\n",
    "    plt.plot([0, 1], [0, 1], \"--k\", alpha=0.8)\n",
    "    plt.xlabel(\"p_values\")\n",
    "    plt.subplot(1,2,2)\n",
    "    plt.scatter(diff[:,0], diff[:,1], s=1)\n",
    "    plt.xlabel(\"Ratio delta\")\n",
    "    plt.ylabel(\"Proxy delta\")"
   ],
   "id": "140a0585f6091b9e",
   "outputs": [],
   "execution_count": 658
  },
  {
   "metadata": {},
   "cell_type": "markdown",
   "source": "### AA_test",
   "id": "2951f38d9eaa085a"
  },
  {
   "metadata": {
    "ExecuteTime": {
     "end_time": "2025-03-21T21:58:59.449999Z",
     "start_time": "2025-03-21T21:58:59.306694Z"
    }
   },
   "cell_type": "code",
   "source": "show_res(p_values, diff)",
   "id": "599733e17f99aeaf",
   "outputs": [
    {
     "data": {
      "text/plain": [
       "<Figure size 1000x600 with 2 Axes>"
      ],
      "image/png": "[encoded data removed]"
     },
     "metadata": {},
     "output_type": "display_data"
    }
   ],
   "execution_count": 659
  },
  {
   "metadata": {
    "ExecuteTime": {
     "end_time": "2025-03-21T21:58:59.500438Z",
     "start_time": "2025-03-21T21:58:59.495922Z"
    }
   },
   "cell_type": "code",
   "source": "np.quantile(p_values, .05)",
   "id": "3cc165419eec8316",
   "outputs": [
    {
     "data": {
      "text/plain": [
       "np.float64(0.015155685887397897)"
      ]
     },
     "execution_count": 660,
     "metadata": {},
     "output_type": "execute_result"
    }
   ],
   "execution_count": 660
  },
  {
   "metadata": {
    "ExecuteTime": {
     "end_time": "2025-03-21T21:58:59.573594Z",
     "start_time": "2025-03-21T21:58:59.546857Z"
    }
   },
   "cell_type": "code",
   "source": [
    "target = \"duration_ab.csv\"\n",
    "df = pd.read_csv(os.path.join(data_path, target))\n",
    "target = \"duration_hist.csv\"\n",
    "df_cuped = pd.read_csv(os.path.join(data_path, target))\n",
    "control, treat = prepare_data(df, \"a\", \"b\")"
   ],
   "id": "a512a37f77fba5cb",
   "outputs": [],
   "execution_count": 661
  },
  {
   "metadata": {},
   "cell_type": "markdown",
   "source": "#### AB_test",
   "id": "b0a1466d4fdb71bf"
  },
  {
   "metadata": {
    "ExecuteTime": {
     "end_time": "2025-03-21T21:59:11.497258Z",
     "start_time": "2025-03-21T21:58:59.619925Z"
    }
   },
   "cell_type": "code",
   "source": [
    "p_values, diff,  fpr = Ratio_test(control,treat)\n",
    "show_res(p_values, diff)"
   ],
   "id": "ba70d556bdc0e1ed",
   "outputs": [
    {
     "name": "stderr",
     "output_type": "stream",
     "text": [
      "100%|██████████| 1000/1000 [00:11<00:00, 85.14it/s]\n"
     ]
    },
    {
     "data": {
      "text/plain": [
       "<Figure size 1000x600 with 2 Axes>"
      ],
      "image/png": "[encoded data removed]"
     },
     "metadata": {},
     "output_type": "display_data"
    }
   ],
   "execution_count": 662
  },
  {
   "metadata": {
    "ExecuteTime": {
     "end_time": "2025-03-21T21:59:11.548525Z",
     "start_time": "2025-03-21T21:59:11.542099Z"
    }
   },
   "cell_type": "code",
   "source": [
    "agg_full = df_cuped.groupby([\"user_id\"])[\"visit_duration\"].agg(\n",
    "amount = \"sum\",\n",
    "num = \"count\"\n",
    ").reset_index()"
   ],
   "id": "15ea47c8a0a1dda6",
   "outputs": [],
   "execution_count": 663
  },
  {
   "metadata": {
    "ExecuteTime": {
     "end_time": "2025-03-21T22:06:08.622609Z",
     "start_time": "2025-03-21T22:06:08.617454Z"
    }
   },
   "cell_type": "code",
   "source": [
    "# посчитаем по всем, чтобы уточнить оценку, так как данных на экспе мало\n",
    "R_c_full = sum(agg_full.amount.values) / sum(agg_full.num.values) "
   ],
   "id": "3c84a32e3989aa0e",
   "outputs": [],
   "execution_count": 665
  },
  {
   "metadata": {
    "ExecuteTime": {
     "end_time": "2025-03-21T22:06:09.131445Z",
     "start_time": "2025-03-21T22:06:09.128329Z"
    }
   },
   "cell_type": "code",
   "source": "get_proxy = lambda df, R_c: df.apply(lambda row: row[\"amount\"] - R_c* row[\"num\"], axis =1)",
   "id": "5363706d94d89dfe",
   "outputs": [],
   "execution_count": 666
  },
  {
   "metadata": {
    "ExecuteTime": {
     "end_time": "2025-03-21T22:06:09.563954Z",
     "start_time": "2025-03-21T22:06:09.549521Z"
    }
   },
   "cell_type": "code",
   "source": [
    "# Здесь с таким же смыслом\n",
    "Var_full = np.var(get_proxy(agg_full,R_c_full))"
   ],
   "id": "f4059ad893ffe640",
   "outputs": [],
   "execution_count": 667
  },
  {
   "metadata": {
    "ExecuteTime": {
     "end_time": "2025-03-21T22:06:09.976993Z",
     "start_time": "2025-03-21T22:06:09.969748Z"
    }
   },
   "cell_type": "code",
   "source": [
    "def Ratio_test_cuped(control, treat, n_iter = 1000):\n",
    "    alpha = .05\n",
    "    p_values = []\n",
    "    diff = []\n",
    "    rhos = []\n",
    "    get_history_covariate = lambda indexes:df_cuped[df_cuped.user_id.isin(indexes)].groupby([\"user_id\"])[\"visit_duration\"].agg(\n",
    "        amount = \"sum\",\n",
    "        num = \"count\"\n",
    "    ).reset_index()\n",
    "    get_proxy = lambda df, R_c: df.apply(lambda row: row[\"amount\"] - R_c* row[\"num\"], axis =1)\n",
    "    get_r  = lambda df:  df[\"amount\"].sum()/ df[\"num\"].sum()\n",
    "    covariate_control_df = get_history_covariate(control.index.values)\n",
    "    covariate_control_df.set_index(\"user_id\", inplace=True)\n",
    "    covariate_treat_df = get_history_covariate(treat.index.values)\n",
    "    covariate_treat_df.set_index(\"user_id\", inplace=True)\n",
    "    for i in tqdm(range(n_iter)):\n",
    "        control_boot  = control.sample(len(control), replace = True)\n",
    "        covariate_control_df_boot =covariate_control_df.loc[control_boot.index]\n",
    "        #проверка на то, что вовзращает  объект к объекту, чтобы корреляцию посчитать норм\n",
    "        #print(list(zip(list(control_boot.index),list(covariate_control_df_boot.index))))\n",
    "        treat_boot  = treat.sample(len(treat), replace = True)\n",
    "        covariate_treat_df_boot = covariate_treat_df.loc[treat_boot.index]\n",
    "        R_c_after = get_r(control_boot)\n",
    "        R_t_after = get_r(treat_boot)\n",
    "        control_metric_after = get_proxy(control_boot, R_c_after)\n",
    "        treat_metric_after = get_proxy(treat_boot, R_c_after)\n",
    "        control_metric_before = get_proxy(covariate_control_df_boot, R_c_full)\n",
    "        treat_metric_before = get_proxy(covariate_treat_df_boot, R_c_full)\n",
    "        metric_before_merged = np.hstack((control_metric_before, treat_metric_before))\n",
    "        metric_after_merged = np.hstack((control_metric_after, treat_metric_after)) \n",
    "        theta = np.cov(metric_after_merged, metric_before_merged, bias=True)[0, 1]/Var_full\n",
    "        control_cuped = control_metric_after - theta*control_metric_before\n",
    "        treat_cuped = treat_metric_after - theta*treat_metric_before\n",
    "        #cобираем статистики\n",
    "        corr_pearson, _ = pearsonr(metric_after_merged, metric_before_merged)\n",
    "        rhos.append(corr_pearson)\n",
    "        diff.append((control_cuped.mean()  -treat_cuped.mean(),R_c_after - R_t_after ))\n",
    "        p_values.append(stats.ttest_ind(control_cuped, treat_cuped, equal_var = False)[1])\n",
    "    return p_values, np.array(diff), rhos"
   ],
   "id": "fea1f3d0b88550c1",
   "outputs": [],
   "execution_count": 668
  },
  {
   "metadata": {
    "ExecuteTime": {
     "end_time": "2025-03-21T22:06:36.144180Z",
     "start_time": "2025-03-21T22:06:11.784489Z"
    }
   },
   "cell_type": "code",
   "source": "p_values_cuped,diff, rhos  = Ratio_test_cuped(control,treat, 1000)",
   "id": "b1643e59bf03973",
   "outputs": [
    {
     "name": "stderr",
     "output_type": "stream",
     "text": [
      "100%|██████████| 1000/1000 [00:24<00:00, 41.08it/s]\n"
     ]
    }
   ],
   "execution_count": 669
  },
  {
   "metadata": {},
   "cell_type": "markdown",
   "source": "#### CUPED",
   "id": "886079c528792396"
  },
  {
   "metadata": {
    "ExecuteTime": {
     "end_time": "2025-03-21T22:07:38.330737Z",
     "start_time": "2025-03-21T22:07:38.182166Z"
    }
   },
   "cell_type": "code",
   "source": "show_res(p_values_cuped, diff)",
   "id": "d7fcba8a06f2d832",
   "outputs": [
    {
     "data": {
      "text/plain": [
       "<Figure size 1000x600 with 2 Axes>"
      ],
      "image/png": "[encoded data removed]"
     },
     "metadata": {},
     "output_type": "display_data"
    }
   ],
   "execution_count": 670
  },
  {
   "metadata": {},
   "cell_type": "markdown",
   "source": "#### Сравнение t-test'a VS линеаризации + CUPED  ",
   "id": "f2a5d793a1478319"
  },
  {
   "metadata": {
    "ExecuteTime": {
     "end_time": "2025-03-21T22:07:40.151834Z",
     "start_time": "2025-03-21T22:07:40.056101Z"
    }
   },
   "cell_type": "code",
   "source": [
    "sns.ecdfplot(p_values, color='blue', label='p-values')\n",
    "sns.ecdfplot(p_values_cuped, color='red', label='p-values CUPED')\n",
    "plt.legend()"
   ],
   "id": "97a6b7c746947c86",
   "outputs": [
    {
     "data": {
      "text/plain": [
       "<matplotlib.legend.Legend at 0x27ce8210850>"
      ]
     },
     "execution_count": 671,
     "metadata": {},
     "output_type": "execute_result"
    },
    {
     "data": {
      "text/plain": [
       "<Figure size 640x480 with 1 Axes>"
      ],
      "image/png": "[encoded data removed]"
     },
     "metadata": {},
     "output_type": "display_data"
    }
   ],
   "execution_count": 671
  },
  {
   "metadata": {},
   "cell_type": "markdown",
   "source": "Видим, что значимого улчушения от купеда мы не получили. Попробуем проверить коэффицент корреляции между ковариатой и таргетом",
   "id": "410fb630e45e8557"
  },
  {
   "metadata": {},
   "cell_type": "markdown",
   "source": "### Посмотрим на значения корреляции между историческими данными и метрикой на экспе. ",
   "id": "60bbd7578fdc9a0a"
  },
  {
   "metadata": {
    "ExecuteTime": {
     "end_time": "2025-03-21T22:07:42.510622Z",
     "start_time": "2025-03-21T22:07:42.401811Z"
    }
   },
   "cell_type": "code",
   "source": "sns.histplot(rhos)",
   "id": "53d6537f8a6e5005",
   "outputs": [
    {
     "data": {
      "text/plain": [
       "<Axes: ylabel='Count'>"
      ]
     },
     "execution_count": 672,
     "metadata": {},
     "output_type": "execute_result"
    },
    {
     "data": {
      "text/plain": [
       "<Figure size 640x480 with 1 Axes>"
      ],
      "image/png": "[encoded data removed]"
     },
     "metadata": {},
     "output_type": "display_data"
    }
   ],
   "execution_count": 672
  },
  {
   "metadata": {},
   "cell_type": "markdown",
   "source": "Корреляция отсутсвует, поэтому в большинстве случаев мы не получили редукции дисперсии, а это значит, что не выиграли в чувствительности, и соответсвенно не получили улучушения от купеда.",
   "id": "2c7a64aa27774eba"
  },
  {
   "metadata": {},
   "cell_type": "code",
   "outputs": [],
   "execution_count": null,
   "source": "",
   "id": "2f98466a2de0fe34"
  }
 ],
 "metadata": {
  "kernelspec": {
   "display_name": "HW2_AB",
   "language": "python",
   "name": "myenv"
  },
  "language_info": {
   "codemirror_mode": {
    "name": "ipython",
    "version": 3
   },
   "file_extension": ".py",
   "mimetype": "text/x-python",
   "name": "python",
   "nbconvert_exporter": "python",
   "pygments_lexer": "ipython3",
   "version": "3.13.1"
  }
 },
 "nbformat": 4,
 "nbformat_minor": 5
}
